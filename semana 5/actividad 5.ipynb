{
 "cells": [
  {
   "cell_type": "markdown",
   "id": "5ad8356f",
   "metadata": {},
   "source": [
    "# Actividades Capítulo 5.\n",
    "\n",
    "\n",
    "# Algoritmos de clasificación.\n",
    "\n",
    "## Resumen de actividades\n",
    "\n",
    "\n",
    "- **Unidad 27.** Ordenamiento de burbuja, (Bubble Sort) algoritmo de ordenamiento, selección e inserción\n",
    "- **Unidad 28.** Ordenar por selección, ordenamiento por inserción.\n",
    "- **Unidad 29.** Clasificación rápida\n"
   ]
  },
  {
   "cell_type": "markdown",
   "id": "8c5aa9c8",
   "metadata": {},
   "source": [
    "# Actividad: Ordenamiento de Burbuja\n",
    "\n",
    "\n",
    "## Instrucciones\n",
    "\n",
    "1. Explique brevemente y en forma clara cómo funciona el algoritmo de ordenamiento de burbuja.\n",
    "\n",
    "2. Desarrollo un función donde se use el ordenamiento de burbuja aplicada a una lista de valores enteros.\n",
    "\n"
   ]
  },
  {
   "cell_type": "code",
   "execution_count": 4,
   "id": "90cd2e33",
   "metadata": {},
   "outputs": [
    {
     "name": "stdout",
     "output_type": "stream",
     "text": [
      "Lista ordenada:\n",
      "[11, 12, 22, 25, 34, 64, 90]\n"
     ]
    }
   ],
   "source": [
    "# Espacio para desarrollar el código requerido, recuerde agregar algunos\n",
    "# comentarios breves sobre su funcionamiento.\n",
    "\n",
    "\n",
    "'''El algoritmo de ordenamiento de burbuja funciona comparando pares de \n",
    "elementos adyacentes en una lista y, si están en el orden incorrecto, los intercambia. Este proceso se repite \n",
    "varias veces hasta que la lista esté completamente ordenada. \n",
    "En cada iteración, el elemento, dependiendo de como se quiera ordenar, se mueve hacia el final de la lista'''\n",
    "\n",
    "#este es un codigo que realiza un ordenamiento de burbuja\n",
    "\n",
    "def bubble_sort(lista):\n",
    "    n = len(lista)\n",
    "    # este for itera sobre todos los elementos de la lista\n",
    "    for i in range(n):\n",
    "        for j in range(0, n-i-1):\n",
    "            # Intercambia lod elementos si el elemento actual es mayor que el siguiente\n",
    "            if lista[j] > lista[j+1]:\n",
    "                lista[j], lista[j+1] = lista[j+1], lista[j]\n",
    "\n",
    "# Ejemplo de uso\n",
    "lista = [64, 34, 25, 12, 22, 11, 90]\n",
    "bubble_sort(lista)\n",
    "print(\"Lista ordenada:\")\n",
    "print(lista)\n",
    "\n"
   ]
  },
  {
   "cell_type": "markdown",
   "id": "a11871f3",
   "metadata": {},
   "source": [
    "# Actividad: Función Swap.\n",
    "\n",
    "1. Escriba una función que permita el intercambion de elementos en una lista.\n",
    "2. Los argumentos de esta función serán, la lista y los indices de los elementos que se desean intercambiar.\n",
    "3. En la siguiente celda desarrollo el código requerido, recuerde agregar comentarias breves que expliquen su funcionamiento.\n"
   ]
  },
  {
   "cell_type": "code",
   "execution_count": 11,
   "id": "1e7a5371",
   "metadata": {},
   "outputs": [
    {
     "name": "stdout",
     "output_type": "stream",
     "text": [
      "['elemento1', 'elemento2', 'elemento3', 'elemento4', 'elemento5']\n"
     ]
    },
    {
     "name": "stdin",
     "output_type": "stream",
     "text": [
      "ingrese el numero de las posiciones que desea intercambiar separados por \",\" ej.: para elemento1 y elemento2-> 1,2  1,5\n"
     ]
    },
    {
     "name": "stdout",
     "output_type": "stream",
     "text": [
      "['elemento5', 'elemento2', 'elemento3', 'elemento4', 'elemento1']\n"
     ]
    }
   ],
   "source": [
    "# Espacio para desarrollar la actividad, si tienes alguna duda o comentario adicional\n",
    "# lo puedes dejar planteado acá.\n",
    "\n",
    "#this function is to swap positions between 2 elements in a list\n",
    "def swap(lista, variable1, variable2):\n",
    "    lista[variable1], lista[variable2] = lista[variable2], lista[variable1]\n",
    "\n",
    "lista=['elemento1', 'elemento2', 'elemento3', 'elemento4', 'elemento5']\n",
    "print(lista) #print of the list before the swap\n",
    "#the change variable almacenates the positions we want to swap in a tuple\n",
    "change= (input('ingrese el numero de las posiciones que desea intercambiar separados por \",\" ej.: para elemento1 y elemento2-> 1,2 ')) \n",
    "var1, var2= change.split(',') #split the positions of the tuple in 2 variables\n",
    "#after the split, the values types are str so we switch it to intergers to use them as an index\n",
    "num1=int(var1)-1 \n",
    "num2=int(var2)-1\n",
    "#invoke the function\n",
    "swap(lista, num1, num2)\n",
    "print(lista)\n",
    "\n",
    "\n",
    "\n"
   ]
  },
  {
   "cell_type": "markdown",
   "id": "a207d974",
   "metadata": {},
   "source": [
    "\n",
    "# Actividad: \n",
    "\n",
    "1. Explique brevemente el funcionamiento del algoritmo Quick Sort.\n",
    "2. Desarrollo el código para implementar el algoritmo Quick Sort.\n",
    "3. Revise las unidad 29, sección 1.1"
   ]
  },
  {
   "cell_type": "code",
   "execution_count": 12,
   "id": "a4f925a4",
   "metadata": {},
   "outputs": [
    {
     "name": "stdout",
     "output_type": "stream",
     "text": [
      "Lista ordenada:\n",
      "[1, 2, 5, 6, 8]\n"
     ]
    }
   ],
   "source": [
    "# Celda para desarrollar \n",
    "\n",
    "\n",
    "'''El algoritmo Quick Sort es un método de ordenamiento que utiliza la estrategia de dividir y venceras para ordenar una lista de elementos. \n",
    "Funciona seleccionando un elemento como pivote y cortando la lista en dos subconjuntos: uno con elementos menores que el pivote \n",
    "y otro con elementos mayores. Luego, se aplica recursivamente el mismo proceso a cada subconjunto hasta que la lista esté completamente ordenada. \n",
    "La elección del pivote y la estrategia de partición son cruciales para la eficiencia del algoritmo.'''\n",
    "\n",
    "def quick_sort(lista):\n",
    "    if len(lista) <= 1:\n",
    "        return lista\n",
    "    else:\n",
    "        pivote = lista[0]\n",
    "        menores = [x for x in lista[1:] if x <= pivote]\n",
    "        mayores = [x for x in lista[1:] if x > pivote]\n",
    "        return quick_sort(menores) + [pivote] + quick_sort(mayores)\n",
    "\n",
    "# Ejemplo de uso\n",
    "lista = [5, 2, 8, 1, 6]\n",
    "lista_ordenada = quick_sort(lista)\n",
    "print(\"Lista ordenada:\")\n",
    "print(lista_ordenada)\n",
    "\n",
    "\n",
    "\n"
   ]
  },
  {
   "cell_type": "markdown",
   "id": "26a6bb9e",
   "metadata": {},
   "source": [
    "# Actividad: Quick Sort usando un valor de pivote aleatorio.\n",
    "\n",
    "1. Explique brevemente el funcionamiento del algoritmo Quick Sort en la modaladidad de usar un valor de pivote aleatorio.\n",
    "2. Comente las ventajas de esta variación.\n",
    "3. Desarrollo el código necesarion para este algoritmo.\n",
    "4. Agregue comentarios sobre su funcionamiento.\n",
    "\n"
   ]
  },
  {
   "cell_type": "code",
   "execution_count": 15,
   "id": "6670eace",
   "metadata": {},
   "outputs": [
    {
     "name": "stdout",
     "output_type": "stream",
     "text": [
      "[5, 2, 8, 1, 6]\n",
      "Lista ordenada:\n",
      "[1, 1, 6, 6, 8]\n"
     ]
    }
   ],
   "source": [
    "# Espacio para desarrollar el código siguiendo las instrucciones.\n",
    "import random\n",
    "\n",
    "'''\n",
    "las ventajas de este metodo se basan, en principio, en que se disminuyen las probabilidades \n",
    "de que el pivote sea un elemento o numero el cual corresponda al peor caso posible. Esto hace que, en promedio,\n",
    "el metodo sea mas eficiente\n",
    "'''\n",
    "\n",
    "#funcion que hace el sort\n",
    "def quick_sort(lista):\n",
    "    if len(lista) <= 1: #condicion que rompe la recursividad\n",
    "        return lista\n",
    "    else:\n",
    "        pivote_rnd= random.randint(0, len(lista)-1) #instruccion que encuentra un valor random entre 0 y el total de la lista\n",
    "        pivot = lista[pivote_rnd]\n",
    "        menores = [x for x in lista[1:] if x <= pivot] #instruccion que comienza a comparar las listas\n",
    "        mayores = [x for x in lista[1:] if x > pivot] #instruccion que comienza a comparar las listas\n",
    "        return quick_sort(menores) + [pivot] + quick_sort(mayores) #llamada de recursividad\n",
    "\n",
    "# Ejemplo de uso\n",
    "lista = [5, 2, 8, 1, 6]\n",
    "print(lista)\n",
    "lista_ordenada = quick_sort(lista)\n",
    "print(\"Lista ordenada:\")\n",
    "print(lista_ordenada)\n",
    "\n",
    "\n",
    "\n",
    "\n"
   ]
  }
 ],
 "metadata": {
  "kernelspec": {
   "display_name": "Python 3 (ipykernel)",
   "language": "python",
   "name": "python3"
  },
  "language_info": {
   "codemirror_mode": {
    "name": "ipython",
    "version": 3
   },
   "file_extension": ".py",
   "mimetype": "text/x-python",
   "name": "python",
   "nbconvert_exporter": "python",
   "pygments_lexer": "ipython3",
   "version": "3.9.18"
  }
 },
 "nbformat": 4,
 "nbformat_minor": 5
}
