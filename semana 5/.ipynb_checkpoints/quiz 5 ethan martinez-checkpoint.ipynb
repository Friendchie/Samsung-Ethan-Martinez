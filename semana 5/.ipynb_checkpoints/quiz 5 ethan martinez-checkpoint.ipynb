{
 "cells": [
  {
   "cell_type": "markdown",
   "id": "5ad8356f",
   "metadata": {},
   "source": [
    "# Coding and Programming\n",
    "\n",
    "## Capítulo 5\n",
    "\n",
    "### Algoritmos de clasificación\n",
    "\n",
    "- **Unidad 27.** Ordenamiento de burbuja, (Bubble Sort) algoritmo de ordenamiento, selección e inserción\n",
    "- **Unidad 28.** Ordenar por selección, ordenamiento por inserción.\n",
    "- **Unidad 29.** Clasificación rápida\n"
   ]
  },
  {
   "cell_type": "markdown",
   "id": "2e42031a",
   "metadata": {},
   "source": [
    "___"
   ]
  },
  {
   "cell_type": "markdown",
   "id": "8c5aa9c8",
   "metadata": {},
   "source": [
    "## Q 27-01\n",
    "\n",
    "¿Cuántas comparaciones se ejecutaron en el siguiente proceso de ordenamiento de burbuja?\n",
    "```\n",
    "def bubbleSort(S):\n",
    "    n = len(S)\n",
    "    for i in range(n):\n",
    "        print(S)\n",
    "        for j in range(n-1):\n",
    "            if S[j] > S[j+1]:\n",
    "               S[j] , S[j+1] = S[j+1] , S[j]\n",
    "\n",
    "S = [50, 30, 40, 10, 20]\n",
    "bubbleSort(S)\n",
    "print(S)\n",
    "```\n",
    "#### Output\n",
    "```\n",
    "[50, 30, 40, 10, 20]\n",
    "[30, 40, 10, 20, 50]\n",
    "[30, 10, 20, 40, 50]\n",
    "[10, 20, 30, 40, 50]\n",
    "[10, 20, 30, 40, 50]\n",
    "[10, 20, 30, 40, 50]\n",
    "```"
   ]
  },
  {
   "cell_type": "markdown",
   "id": "ac65e987",
   "metadata": {},
   "source": [
    "10 comparaciones"
   ]
  },
  {
   "cell_type": "markdown",
   "id": "07be4f9d",
   "metadata": {},
   "source": [
    "___"
   ]
  },
  {
   "cell_type": "markdown",
   "id": "a11871f3",
   "metadata": {},
   "source": [
    "## Q 27-02\n",
    "\n",
    "¿Cuántas comparaciones se ejecutaron en el siguiente proceso de ordenamiento de inserción?\n",
    "```\n",
    "def insertionSort2(S):\n",
    "    n = len(S)\n",
    "    for i in range(1,n):\n",
    "        print(S)\n",
    "        x = S[i]\n",
    "        j = i - 1\n",
    "        while j >= 0 and S[j] > x:\n",
    "            S[j+1] = S[j]\n",
    "            j -= 1\n",
    "        S[j + 1] = x\n",
    "\n",
    "S = [50, 30, 40, 10, 20]\n",
    "insertionSort2(S)\n",
    "print(S)\n",
    "```\n",
    "#### Output\n",
    "```\n",
    "[50, 30, 40, 10, 20]\n",
    "[30, 40, 10, 20, 50]\n",
    "[30, 10, 20, 40, 50]\n",
    "[10, 20, 30, 40, 50]\n",
    "[10, 20, 30, 40, 50]\n",
    "[10, 20, 30, 40, 50]\n",
    "```"
   ]
  },
  {
   "cell_type": "markdown",
   "id": "188dab73-cb44-48be-9f85-616590be7ded",
   "metadata": {},
   "source": [
    "10 comparaciones"
   ]
  },
  {
   "cell_type": "markdown",
   "id": "05c7586b",
   "metadata": {},
   "source": [
    "___"
   ]
  },
  {
   "cell_type": "markdown",
   "id": "a207d974",
   "metadata": {},
   "source": [
    "## Q 28-01\n",
    "\n",
    "¿Cuántas veces se ejecuta la función `merge2()` en el siguiente proceso de ordenamiento por fusión?\n",
    "```\n",
    "S = [6,2,11,7,5,4,8,16,10,3]\n",
    "mergeSort2(S, 0, len(S)-1)\n",
    "print(S)\n",
    "```"
   ]
  },
  {
   "cell_type": "code",
   "execution_count": 1,
   "id": "16ef6bb5-9968-4038-9e74-31549e2b886c",
   "metadata": {},
   "outputs": [
    {
     "ename": "NameError",
     "evalue": "name 'mergeSort2' is not defined",
     "output_type": "error",
     "traceback": [
      "\u001b[1;31m---------------------------------------------------------------------------\u001b[0m",
      "\u001b[1;31mNameError\u001b[0m                                 Traceback (most recent call last)",
      "Cell \u001b[1;32mIn[1], line 27\u001b[0m\n\u001b[0;32m     25\u001b[0m merge_count \u001b[38;5;241m=\u001b[39m \u001b[38;5;241m0\u001b[39m\n\u001b[0;32m     26\u001b[0m S \u001b[38;5;241m=\u001b[39m [\u001b[38;5;241m6\u001b[39m, \u001b[38;5;241m2\u001b[39m, \u001b[38;5;241m11\u001b[39m, \u001b[38;5;241m7\u001b[39m, \u001b[38;5;241m5\u001b[39m, \u001b[38;5;241m4\u001b[39m, \u001b[38;5;241m8\u001b[39m, \u001b[38;5;241m16\u001b[39m, \u001b[38;5;241m10\u001b[39m, \u001b[38;5;241m3\u001b[39m]\n\u001b[1;32m---> 27\u001b[0m \u001b[43mmergeSort2\u001b[49m(S, \u001b[38;5;241m0\u001b[39m, \u001b[38;5;28mlen\u001b[39m(S) \u001b[38;5;241m-\u001b[39m \u001b[38;5;241m1\u001b[39m)\n\u001b[0;32m     28\u001b[0m \u001b[38;5;28mprint\u001b[39m(\u001b[38;5;124m\"\u001b[39m\u001b[38;5;124mNúmero de ejecuciones de merge2():\u001b[39m\u001b[38;5;124m\"\u001b[39m, merge_count)\n\u001b[0;32m     29\u001b[0m \u001b[38;5;28mprint\u001b[39m(\u001b[38;5;124m\"\u001b[39m\u001b[38;5;124mLista ordenada:\u001b[39m\u001b[38;5;124m\"\u001b[39m, S)\n",
      "\u001b[1;31mNameError\u001b[0m: name 'mergeSort2' is not defined"
     ]
    }
   ],
   "source": [
    "def merge2(S, low, mid, high):\n",
    "    global merge_count\n",
    "    i, j = low, mid + 1\n",
    "    R = []  # Lista para almacenar los elementos fusionados\n",
    "    while i <= mid and j <= high:\n",
    "        if S[i] < S[j]:\n",
    "            R.append(S[i])\n",
    "            i += 1\n",
    "        else:\n",
    "            R.append(S[j])\n",
    "            j += 1\n",
    "    # Agregar los elementos restantes de la primera mitad (si los hay)\n",
    "    while i <= mid:\n",
    "        R.append(S[i])\n",
    "        i += 1\n",
    "    # Agregar los elementos restantes de la segunda mitad (si los hay)\n",
    "    while j <= high:\n",
    "        R.append(S[j])\n",
    "        j += 1\n",
    "    # Copiar los elementos fusionados de vuelta a la lista original S\n",
    "    for k in range(len(R)):\n",
    "        S[low + k] = R[k]\n",
    "    merge_count += 1\n",
    "\n",
    "merge_count = 0\n",
    "S = [6, 2, 11, 7, 5, 4, 8, 16, 10, 3]\n",
    "merge2(S, 0, len(S) - 1)\n",
    "print(\"Número de ejecuciones de merge2():\", merge_count)\n",
    "print(\"Lista ordenada:\", S)\n"
   ]
  },
  {
   "cell_type": "markdown",
   "id": "f0d1a419",
   "metadata": {},
   "source": [
    "___"
   ]
  },
  {
   "cell_type": "markdown",
   "id": "26a6bb9e",
   "metadata": {},
   "source": [
    "## Q 29-01\n",
    "\n",
    "Dada la lista a continuación, escriba la salida después de ejecutar la función `partition1()`\n",
    "```\n",
    "S = [15,10,12,20,25,13,22]\n",
    "partition1(S, 0, len(S)-1)\n",
    "print(S)\n",
    "```\n",
    "#### Output\n",
    "```\n",
    "[15,10,12,20,25,13,22] 0 6 pivot = 15\n",
    "...\n",
    "```\n"
   ]
  },
  {
   "cell_type": "markdown",
   "id": "5c53b843",
   "metadata": {},
   "source": [
    "___"
   ]
  },
  {
   "cell_type": "markdown",
   "id": "896ee09a",
   "metadata": {},
   "source": [
    "# Fin"
   ]
  }
 ],
 "metadata": {
  "kernelspec": {
   "display_name": "Python 3 (ipykernel)",
   "language": "python",
   "name": "python3"
  },
  "language_info": {
   "codemirror_mode": {
    "name": "ipython",
    "version": 3
   },
   "file_extension": ".py",
   "mimetype": "text/x-python",
   "name": "python",
   "nbconvert_exporter": "python",
   "pygments_lexer": "ipython3",
   "version": "3.9.18"
  }
 },
 "nbformat": 4,
 "nbformat_minor": 5
}
