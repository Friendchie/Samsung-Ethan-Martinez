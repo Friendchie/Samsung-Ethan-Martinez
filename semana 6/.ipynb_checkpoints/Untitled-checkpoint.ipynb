{
 "cells": [
  {
   "cell_type": "code",
   "execution_count": 29,
   "id": "c1697cc0-9044-4bb1-9057-2a565af8ccba",
   "metadata": {},
   "outputs": [
    {
     "name": "stdout",
     "output_type": "stream",
     "text": [
      "0\n",
      "1\n",
      "2\n",
      "3\n",
      "4\n",
      "5\n",
      "6\n",
      "7\n",
      "8\n",
      "9\n",
      "[[3, 0, 0], [0, 4, 0], [0, 6, 5]]\n",
      "no hay solucion\n",
      "[[3, 0, 0], [0, 4, 0], [0, 6, 5]]\n"
     ]
    }
   ],
   "source": [
    "\n",
    "import copy\n",
    "\n",
    "def valid(num, grid):\n",
    "    nums=[]\n",
    "    for fila in range(3):\n",
    "        for col in range(3):\n",
    "            nums.append(grid[fila][col])\n",
    "    if num in nums:        \n",
    "        return False\n",
    "    else:\n",
    "        return True\n",
    "\n",
    "\n",
    "def suma(grid):\n",
    "    sumD=0\n",
    "    sumD2=0\n",
    "    for fil in range(3):\n",
    "        sum=0\n",
    "        sumC=0\n",
    "        \n",
    "        for col in range(3):\n",
    "            sum+=grid[fil][col]\n",
    "            sumC+=grid[col][fil]\n",
    "            sumD+=grid[col][col]\n",
    "            sumD2+=grid[fil][fil]\n",
    "    if sum==12 and sumC==12 and sumD==12 and sumD2==12:\n",
    "        return True\n",
    "    else:\n",
    "        return False\n",
    "\n",
    "def solve(col, fil, grid):\n",
    "    for fil in range(3):\n",
    "        for col in range(3):\n",
    "            if grid[fil][col]== 0:  \n",
    "                for num in range(0,10):\n",
    "                    print(num)\n",
    "                    if valid(num, grid):\n",
    "                        grid[fil][col]= num\n",
    "                        if suma(grid):\n",
    "                            return True\n",
    "                        else:\n",
    "                            grid[fil][col] = 0  # Si no se puede resolver, restablece la celda a 0\n",
    "                return False  # Si no se encuentra ningún número válido, devuelve False\n",
    "    return True  # Si no hay celdas vacías, devuelve True\n",
    "\n",
    "lista= [[3,0,0], [0,4,0], [0,6,5]]\n",
    "listaN= [[3,0,0], [0,4,0], [0,6,5]]\n",
    "\n",
    "\n",
    "solve(0, 0, lista)\n",
    "\n",
    "    \n",
    "print(lista)\n",
    "if suma(lista) == True:\n",
    "    for fila in lista:\n",
    "        print(fila)\n",
    "    \n",
    "\n",
    "else:\n",
    "    print(\"no hay solucion\")\n",
    "    print(lista)\n",
    "    \n",
    "                        \n",
    "\n",
    "\n"
   ]
  },
  {
   "cell_type": "code",
   "execution_count": null,
   "id": "c0d41ead-2528-40ae-8e96-664dc777e315",
   "metadata": {},
   "outputs": [],
   "source": []
  }
 ],
 "metadata": {
  "kernelspec": {
   "display_name": "Python 3 (ipykernel)",
   "language": "python",
   "name": "python3"
  },
  "language_info": {
   "codemirror_mode": {
    "name": "ipython",
    "version": 3
   },
   "file_extension": ".py",
   "mimetype": "text/x-python",
   "name": "python",
   "nbconvert_exporter": "python",
   "pygments_lexer": "ipython3",
   "version": "3.9.18"
  }
 },
 "nbformat": 4,
 "nbformat_minor": 5
}
