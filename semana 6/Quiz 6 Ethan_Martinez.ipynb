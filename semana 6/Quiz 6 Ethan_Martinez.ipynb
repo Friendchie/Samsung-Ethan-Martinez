{
 "cells": [
  {
   "cell_type": "markdown",
   "id": "49909eb6",
   "metadata": {},
   "source": [
    "# Coding and Programming\n",
    "\n",
    "## Capítulo 6\n",
    "\n",
    "### Resolución de problemas con algoritmos\n",
    "\n",
    "- **Unidad 30.** Enfoque Greedy algoritmos voraces o ávidos.\n",
    "- **Unidad 31.** Divide y vencerás\n",
    "- **Unidad 32.** Programación dinámica\n",
    "- **Unidad 33.** Backtracking\n"
   ]
  },
  {
   "cell_type": "markdown",
   "id": "2e42031a",
   "metadata": {},
   "source": [
    "___"
   ]
  },
  {
   "cell_type": "markdown",
   "id": "780f0fff",
   "metadata": {},
   "source": [
    "## Q 30-01\n",
    "\n",
    "Este es el problema del intercambio de monedas.\n",
    "\n",
    "Tienes una moneda de 400 wones.\n",
    "\n",
    "Escriba el resultado de cómo el algoritmo `coin_change()` determina el cambio de la moneda de 800 wones.\n",
    "```\n",
    "coins  = [500, 400, 100, 50, 10]\n",
    "amount = int(input(\"Ingrese la cantidad: \"))\n",
    "changes= coin_change(coins, amount)\n",
    "print(changes, len(changes))\n",
    "\n",
    "Ingrese la cantidad: 800\n",
    "```"
   ]
  },
  {
   "cell_type": "markdown",
   "id": "8d0b8eb8",
   "metadata": {},
   "source": [
    "con la cantidad de 400 wones lo que haria la funcion es:\n",
    "1. utilizar recursividad para lo siguiente:\n",
    "2. buscar los valores de la lista que sean menores que 400 (100, 50, 10) y se toma el largo de cuantos son\n",
    "3. de los valores encontrados, se toma el valor mas alto y se le resta a la cantidad inicial(400-100=300)\n",
    "4. se almacena dicho valor mas alto en una lista_cambio\n",
    "5. invocar la recursividad\n",
    "6. la condicion que rompe la recursividad utilizaria el largo de cuantos numeros eran menores al valor inicial y con un contador, cuando dicha variable llega al largo de los valores que eran menores, rompe"
   ]
  },
  {
   "cell_type": "markdown",
   "id": "ca15d3cf",
   "metadata": {},
   "source": [
    "___"
   ]
  },
  {
   "cell_type": "markdown",
   "id": "89395b47",
   "metadata": {},
   "source": [
    "## Q 31-01\n",
    "\n",
    "Tienes 8 monedas idénticas numeradas del 1 al 8. De estas, solo una moneda es más pesada que la otra.\n",
    "\n",
    "Suponiendo que puede pesar monedas con una balanza equilibrada, diseñe un algoritmo que encuentre la moneda más pesada.\n",
    "\n",
    "En este momento, ¿cuántas veces se debe usar al menos la balanza?"
   ]
  },
  {
   "cell_type": "markdown",
   "id": "5ab6c21f-333d-49d1-887d-ce66c1829511",
   "metadata": {},
   "source": [
    "'''\n",
    "peso 1 de las monedas\n",
    "dividiria las 8 monedas en grupos de 3 y pesaria los 2 grupos de 3 monedas\n",
    "si el peso es igual, la moneda esta en el grupo de 2 monedas.\n",
    "si esta en el grupo de 2 monedas, se pesa el grupo de 2 y se resta el peso de la moneda\n",
    "anteriormente pesada al valor de grupo de 2\n",
    "\n",
    "para validar que la moneda pesada al inicio no es la mas pesada, se toma dicho peso y\n",
    "se multiplica por 2 y por 3. Si el resultado da lo mismo o es igual a el peso del grupo\n",
    "de 3 monedas o al grupo de 2 monedas, implica que la moneda no es la mas pesada. Si el \n",
    "resultado no coincide, la moneda pesada al inicio es la mas pesada\n",
    "\n",
    "en este caso se usa 4 veces\n",
    "\n",
    "si el peso de los 2 grupos de 3 monedas es distinto, la mas pesada esta en ese grupo\n",
    "se multuplica la moneda pesada al inicio por 3\n",
    "se compara el valor con ambos pesos y en el que no coincida el valor, se encuentra la mas pesada \n",
    "\n",
    "si no coincide el valor, se multiplica el valor de la moneda al inicio por 2 y se resta ese resultado al peso del grupo de 3\n",
    "eso dara el peso de la moneda mas pesada\n",
    "\n",
    "en este caso se utiliza 3 veces la balanza'''\n",
    "    "
   ]
  },
  {
   "cell_type": "markdown",
   "id": "9c37e736",
   "metadata": {},
   "source": [
    "___"
   ]
  },
  {
   "cell_type": "markdown",
   "id": "6f047403",
   "metadata": {},
   "source": [
    "## Q 31-02\n",
    "\n",
    "Hay nueve monedas idénticas numeradas del 1 al 9 en el problema anterior.\n",
    "\n",
    "Diseñe un algoritmo para encontrar una moneda pesada en este caso.\n",
    "\n",
    "En este momento, ¿cuántas veces se debe usar al menos la balanza?"
   ]
  },
  {
   "cell_type": "markdown",
   "id": "41e80a15",
   "metadata": {},
   "source": [
    "dividiria las 9 monedas en grupos de 3 y pesaria los 3 grupos de 3 monedas\n",
    "la moneda estara en el grupo que pese distinto\n",
    "dividiria entre 3 el valor que coincidan\n",
    "multiplicaria el resultado por 2 y restaria el valor de peso distinto con el resultado multiplicado por 2 y eso me daria la moneda mas pesada\n",
    " se utilizaria 3 veces la balanza "
   ]
  },
  {
   "cell_type": "markdown",
   "id": "0453c475",
   "metadata": {},
   "source": [
    "___"
   ]
  },
  {
   "cell_type": "markdown",
   "id": "881569fc",
   "metadata": {},
   "source": [
    "## Q 32-01\n",
    "\n",
    "Analice el resultado de la ejecución del siguiente código y compárelo con el rendimiento de las funciones `fib1()`, `fib2()` y `fib3()`.\n",
    "```\n",
    "def fib4(n):\n",
    "    if n <= 1:\n",
    "        return n\n",
    "    else:\n",
    "        a,b = 0,1\n",
    "        for i in range(2, n + 1):\n",
    "            a,b = b,a+b\n",
    "        return b\n",
    "\n",
    "N = int(input(\"Ingrese un numero: \"))\n",
    "print(fib4(N))\n",
    "\n",
    "\n",
    "Ingrese un numero:\n",
    "```\n"
   ]
  },
  {
   "cell_type": "markdown",
   "id": "25354b5c",
   "metadata": {},
   "source": [
    "las comparaciones segun las ejecuciones de las funciones se podrian analizar segun la notacion de la big O\n",
    "en el caso de:\n",
    "fib4->O(n)\n",
    "fib1->O(2^n)\n",
    "fib2->O(n)\n",
    "fib3->O(n)\n",
    "la cuestion aqui es que hay funciones que hacen operaciones de mas y hay otras que el input es mas largo. La mas eficiente, creo, seria la fib2 ya que usa memoizacion y tiene tiempo de ejecucion de O(n)"
   ]
  },
  {
   "cell_type": "markdown",
   "id": "60d998bd",
   "metadata": {},
   "source": [
    "___"
   ]
  },
  {
   "cell_type": "markdown",
   "id": "1087c522",
   "metadata": {},
   "source": [
    "## Q 32-02\n",
    "\n",
    "Analice el resultado de la ejecución del siguiente código y compárelo con el rendimiento de las funciones `bin1()` y `bin2()`.\n",
    "```\n",
    "def bin3(n,k):\n",
    "    B = [0] * (n + 1)\n",
    "    for i in range(n + 1):\n",
    "        for j in range(n, -1, -1):\n",
    "            if j==0 or j==i:\n",
    "                B[j] = 1\n",
    "            else:\n",
    "                B[j] = B[j] B[j-1]\n",
    "    return B[k]\n",
    "\n",
    "\n",
    "for i in range(10):\n",
    "    for j in range(i+1):\n",
    "        print(bin3(i,j),end=\" \")\n",
    "    print()\n",
    "```"
   ]
  },
  {
   "cell_type": "markdown",
   "id": "a0df2e98",
   "metadata": {},
   "source": [
    "en terminos generales se podria decir que bin 2 y bin3 son mas eficientes, ya que bin1 hace algunas operaciones redundantes mientras que bin2 y bin3 tienen programacion mas dinamica"
   ]
  },
  {
   "cell_type": "markdown",
   "id": "7cef2a44",
   "metadata": {},
   "source": [
    "___"
   ]
  },
  {
   "cell_type": "markdown",
   "id": "d36e67d4",
   "metadata": {},
   "source": [
    "## Q 33-01\n",
    "\n",
    "Si reemplaza cada letra con un número en la siguiente letra, el número correspondiente a las cinco palabras son todos cuadrados.\n",
    "\n",
    "Para cada palabra, la suma de cada dígito también es un número cuadrado.\n",
    "\n",
    "Encuentra el número representado por cada letra.\n",
    "\n",
    "**Código de referencia:**"
   ]
  },
  {
   "cell_type": "markdown",
   "id": "d31d23cb",
   "metadata": {},
   "source": [
    "___"
   ]
  },
  {
   "cell_type": "code",
   "execution_count": null,
   "id": "0b4613cb-77aa-44e9-98d5-0cd54bf45af3",
   "metadata": {},
   "outputs": [],
   "source": [
    "from math import sqrt, floor\n",
    "import time\n",
    "\n",
    "\n",
    "def is_square_digitsum(n):\n",
    "    S = 0\n",
    "    while n > 0:\n",
    "        S += n % 10\n",
    "        n //= 10\n",
    "    if sqrt(S) == int(sqrt(S)):\n",
    "        return True\n",
    "    return False\n",
    "\n",
    "\n",
    "def find_all_squares():\n",
    "    sqrs = [[] for _ in range(5)]\n",
    "    for i in range(1, floor (sqrt(10 ** 5)) + 1):\n",
    "        n = i * i\n",
    "        if not is_square_digitsum(n):\n",
    "            continue\n",
    "        s = str(n)\n",
    "        if len(s) == 3 and s[1] != s[2]:\n",
    "            continue\n",
    "        if len(s) == 5 and s[2] != s[3]:\n",
    "            continue\n",
    "        if len(s) in [4, 5] and len(set(s)) != 4:\n",
    "            continue\n",
    "        sqrs[len(s) - 1].append(n)\n",
    "    return sqrs\n",
    "\n",
    "\n",
    "def promising (s, n, dic):\n",
    "    for i in range(len(s)):\n",
    "        digit = int(str(n)[i])\n",
    "        for key, value in dic.items():\n",
    "            if key == s[i] and value != digit:\n",
    "                return False\n",
    "            if value == digit and key != s[i]:\n",
    "                return False\n",
    "    return True\n",
    "\n",
    "\n",
    "def solve(words, dic, squares):\n",
    "    global solved\n",
    "    if (len(words) == 0):\n",
    "        solved = dic\n",
    "    else:\n",
    "        s = words[0]\n",
    "        candidates = squares[len(s) - 1]\n",
    "        for n in candidates:\n",
    "            if promising(s, n, dic):\n",
    "                newdic = dic.copy()\n",
    "                for i in range(len(s)):\n",
    "                    newdic[s[i]] = int(str(n)[i])\n",
    "                solve(words [1:], newdic, squares)\n",
    "\n",
    "        \n",
    "def main():\n",
    "    squares = find_all_squares()\n",
    "    # print(squares)\n",
    "    words = ['A', 'TO', 'ALL', 'XMAS', 'MERRY']\n",
    "    dic = {}\n",
    "    solve (words, dic, squares)\n",
    "    for word in words:\n",
    "        print (word, end=\": \")\n",
    "        for c in word:\n",
    "            print(solved[c], end=\"\")\n",
    "        print()\n",
    "\n",
    "start = time.time()\n",
    "solved = {}\n",
    "main()\n",
    "end = time.time()\n",
    "print(\"Elapsed Time:\", end-start,\"seconds\")"
   ]
  },
  {
   "cell_type": "markdown",
   "id": "a6a9656b-d688-42c7-8f40-9fa8939df952",
   "metadata": {},
   "source": [
    "A: 9\n",
    "TO: 81\n",
    "ALL: 900\n",
    "XMAS: 7396\n",
    "MERRY: 34225"
   ]
  },
  {
   "cell_type": "code",
   "execution_count": null,
   "id": "0c92ec21-d7d0-4c9e-9001-57eb6be4f160",
   "metadata": {},
   "outputs": [],
   "source": [
    "#no me da el resultado, no se por que :(\n",
    "def valid(num, grid, fil, col):\n",
    "    for i in range(3):\n",
    "        if num == grid[fil][i] or num == grid[i][col]:\n",
    "            return False\n",
    "    for i in range(3):\n",
    "        for j in range(3):\n",
    "            if num == grid[i][j]:\n",
    "                return False\n",
    "    return True\n",
    "\n",
    "def suma(grid):\n",
    "    sumD=0\n",
    "    sumD2=0\n",
    "    sumR=0\n",
    "    sumC=0\n",
    "    sumB=0\n",
    "    for i in range(3):\n",
    "        sumR+=sum(grid[i])\n",
    "        sumC+=sum(grid[i])\n",
    "        sumB+=grid[i][i]\n",
    "        sumD+=grid[i][i]\n",
    "        sumD2+=grid[i][i]\n",
    "    if sumR==12 and sumC==12 and sumB==12 and sumD==12 and sumD2==12:\n",
    "        return True\n",
    "    else:\n",
    "        return False\n",
    "\n",
    "def solve(fil, col, grid):\n",
    "    default=[3,4,6,5]\n",
    "    for fil in range(3):\n",
    "        for col in range(3):\n",
    "            if grid[fil][col]== 0 and not suma(grid):  \n",
    "                for num in range(1,10):\n",
    "                    if valid(num, grid, fil, col):\n",
    "                        grid[fil][col]= num\n",
    "                        if solve(fil, col, grid):\n",
    "                            return True\n",
    "                        else:\n",
    "                            grid[fil][col]=0\n",
    "            elif grid[fil][col]!=0 and not suma(grid) and grid[fil][col] not in default:\n",
    "                grid[fil][col]=0\n",
    "                if solve(fil, col, grid):\n",
    "                    return True\n",
    "                else:\n",
    "                    grid[fil][col]=0\n",
    "    return False\n",
    "\n",
    "lista= [[3,0,0], [0,4,0], [0,6,5]]\n",
    "\n",
    "solve(0, 0, lista)\n",
    "\n",
    "print(lista)\n",
    "if suma(lista) == True:\n",
    "    for fila in lista:\n",
    "        print(fila)\n",
    "else:\n",
    "    print(\"no hay solucion\")\n",
    "    print(lista)"
   ]
  },
  {
   "cell_type": "markdown",
   "id": "c815e543",
   "metadata": {},
   "source": [
    "# Fin"
   ]
  }
 ],
 "metadata": {
  "kernelspec": {
   "display_name": "Python 3 (ipykernel)",
   "language": "python",
   "name": "python3"
  },
  "language_info": {
   "codemirror_mode": {
    "name": "ipython",
    "version": 3
   },
   "file_extension": ".py",
   "mimetype": "text/x-python",
   "name": "python",
   "nbconvert_exporter": "python",
   "pygments_lexer": "ipython3",
   "version": "3.9.18"
  }
 },
 "nbformat": 4,
 "nbformat_minor": 5
}
