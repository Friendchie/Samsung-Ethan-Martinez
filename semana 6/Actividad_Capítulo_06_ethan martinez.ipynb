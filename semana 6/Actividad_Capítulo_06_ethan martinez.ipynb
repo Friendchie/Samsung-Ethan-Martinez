{
 "cells": [
  {
   "cell_type": "markdown",
   "id": "49909eb6",
   "metadata": {},
   "source": [
    "# Actividades Capítulo 6.\n",
    "\n",
    "\n",
    "# Algoritmos de clasificación.\n",
    "\n",
    "## Resumen de actividades\n",
    "\n",
    "- **Unidad 30.** Enfoque Greedy algoritmos voraces o ávidos.\n",
    "- **Unidad 31.** Divide y vencerás\n",
    "- **Unidad 32.** Programación dinámica\n",
    "- **Unidad 33.** Retroceso\n"
   ]
  },
  {
   "cell_type": "markdown",
   "id": "780f0fff",
   "metadata": {},
   "source": [
    "# Actividad: Algoritmos Greedy.\n",
    "\n",
    "\n",
    "## Instrucciones\n",
    "\n",
    "1. Explique brevemente y en forma clara qué es un algoritmo Greedy y como funciona..\n",
    " \n",
    "2. Enumera algunas ventajas.\n",
    "\n",
    "4. Enumera algunas desventajas.\n",
    "\n",
    "6. Escriba el código desarrollado con el enfoque Greeddy para el problema de cambio de monedas, haga diferentes pruebas cambian las entradas (recuerde que las entrada de este algoritmo son las monedas disponibles y la cantida que se desea cubrir, con estas entradas el algoritmo debe retornar la combinación de monedas que cubre el monto solicitado, minimizando la cantidad de monedas usadas)\n",
    "\n",
    "7. Ahora pruebe los resultados con siguientes entradas: monedas_disponibles = [11, 5, 1] para cubrer la cantidad de 15, observe los resultados, haga algunas analísis de lo que pasaria con esta combinación de entradas.\n",
    "\n",
    "\n",
    "¿Qué es un algoritmo Greedy y cómo funciona?\r\n",
    "\r\n",
    "Un algoritmo Greedy es un enfoque de resolución de problemas que selecciona la mejor opción disponible en cada paso con la esperanza de encontrar una solución óptima global. Funciona tomando decisiones locales en cada etapa con la esperanza de llegar a una solución global óptima. No se preocupa por revisar decisiones anteriores o futuras, solo se centra en maximizar o minimizar algo en el momento present\n",
    "e.\r\n",
    "Ventajas de los algoritmos Greedy:\r\n",
    "\r\n",
    "Son fáciles de entender e implementar.\r\n",
    "Suelen tener un tiempo de ejecución más rápido.\r\n",
    "Requieren menos recursos computacionales en comparación con otros en\n",
    "\n",
    "foques.\r\n",
    "Desventajas de los algoritmos Greedy:\r\n",
    "\r\n",
    "No siempre producen la solución óptima global.\r\n",
    "La elección de la mejor opción local en cada paso puede llevar a una solución subóptima.\r\n",
    "Requieren una cuidadosa selección del enfoque y la función de elección local para evitar soluciones incorrectas.\n"
   ]
  },
  {
   "cell_type": "code",
   "execution_count": 26,
   "id": "21a779a5",
   "metadata": {},
   "outputs": [
    {
     "name": "stdin",
     "output_type": "stream",
     "text": [
      "Ingrese el valor que desea cambiar:  15\n"
     ]
    },
    {
     "name": "stdout",
     "output_type": "stream",
     "text": [
      "El cambio es: [11, 1, 1, 1, 1] \n",
      "con 5 monedas \n"
     ]
    }
   ],
   "source": [
    "# Espacio disponible para desarrollar el código y agregar los comentarios necesarios.\n",
    "def coin_change(monedas,cantidad):\n",
    "    cambio=[] #las monedas que voy añadiendo a la solucion\n",
    "    moneda_mas_grande=0 # contador para recorrer la lista de elementos coins\n",
    "    \n",
    "    while cantidad > 0 :\n",
    "        if cantidad < monedas[moneda_mas_grande]: # verifica si la moneda mas grande NO cabe en amount\n",
    "            moneda_mas_grande +=1\n",
    "        else:\n",
    "            cambio.append(monedas[moneda_mas_grande]) # agrega la moneda mas grande que cabe\n",
    "            cantidad -= monedas[moneda_mas_grande]\n",
    "    return cambio\n",
    "\n",
    "monedas_disponibles=[11,5,1] # lista de los elementos que componen la solucion\n",
    "cantidad= int(input(\"Ingrese el valor que desea cambiar: \"))\n",
    "cambio=coin_change(monedas_disponibles,cantidad)\n",
    "print(f\"El cambio es: {cambio} \\ncon {len(cambio)} monedas \")\n",
    "\n",
    "\n",
    "\n",
    "\n",
    "\n",
    "\n",
    "\n",
    "\n"
   ]
  },
  {
   "cell_type": "markdown",
   "id": "89395b47",
   "metadata": {},
   "source": [
    "# Actividad: Replique el código de la búsqueda de la trayectoria triangular mínima.\n",
    "\n",
    "\n",
    "## Instrucciones\n",
    "\n",
    "\n",
    "1. Replique el código mostrado en la unidad 31.\n",
    "\n",
    "2. Analice el código replicado y agregue una explicíon sonbre su funcionamiento.\n",
    "* Cuando fila alcanza la última fila del triángulo, la función retorna 0, indicando que no hay más costos que agregar.Para cada posición en el triángulo, el costo mínimo de llegar a la parte inferior se obtiene comparando los costos de dos rutas posibles: hacia abajo a la izquierda y hacia abajo a la derecha. Se utiliza la función min() para seleccionar el mínimo entre ambas rutas. El código explora todas las posibles rutas desde la cima hasta la base del triángulo, calculando el costo total de cada ruta y devolviendo el costo mínimo encontrado. Este enfoque tiene un tiempo de ejecución exponencial y puede beneficiarse de técnicas de programación dinámica para mejorar su eficiencia.\n",
    "\n",
    "\n",
    "4. Haga diferentes pruebas cambiando la entrada.\n"
   ]
  },
  {
   "cell_type": "code",
   "execution_count": 8,
   "id": "d446e273",
   "metadata": {},
   "outputs": [
    {
     "name": "stdout",
     "output_type": "stream",
     "text": [
      "El costo minimo es: 13\n"
     ]
    }
   ],
   "source": [
    "# Espacio para desarrollar el código y agregar los comentarios necesarios.\n",
    "\n",
    "def find_minimum(fila,col,triangulo):\n",
    "    if fila==len(triangulo):\n",
    "        return 0\n",
    "    else: \n",
    "        minimum= min(find_minimum(fila+1,col,triangulo),find_minimum(fila+1,col+1,triangulo))\n",
    "        return triangulo[fila][col]+minimum\n",
    "\n",
    "triangulo= triangulo = [\n",
    "    [5],\n",
    "    [9, 6],\n",
    "    [4, 6, 8],\n",
    "    [0, 7, 1, 5]\n",
    "]\n",
    "\n",
    "minimum = find_minimum(1, 0, triangulo)\n",
    "\n",
    "print(\"El costo minimo es:\" ,minimum)\n",
    "\n",
    "\n",
    "\n",
    "\n",
    "\n",
    "\n"
   ]
  },
  {
   "cell_type": "markdown",
   "id": "881569fc",
   "metadata": {},
   "source": [
    "# Actividad: Búsqueda binaria con iteración.\n",
    "\n",
    "\n",
    "## Instrucciones\n",
    "\n",
    "\n",
    "1. Replique el código mostrado en la unidad 31.\n",
    "\n",
    "2. Analice el código replicado y agregue una explicíon sonbre su funcionamiento.\n",
    "\n",
    "3. Explique por qué es necesario usar usar una función recursiva.\n",
    "\n",
    "4. Haga diferentes pruebas cambiando la entrada.\n"
   ]
  },
  {
   "cell_type": "code",
   "execution_count": 5,
   "id": "0b1f525d",
   "metadata": {},
   "outputs": [
    {
     "name": "stdout",
     "output_type": "stream",
     "text": [
      "El valor 9 se encuentra en la posición 8.\n"
     ]
    }
   ],
   "source": [
    "# Espacio para desarrollar el código y agregar los comentarios necesarios.\n",
    "def bin_search(nums,x):\n",
    "    low,high=0, len(nums)-1\n",
    "    while low<=high:\n",
    "        mid=(low+high)//2\n",
    "        if nums[mid]==x:\n",
    "            return mid\n",
    "        elif nums[mid]>x:\n",
    "            high=mid-1\n",
    "        else: \n",
    "            low=mid+1\n",
    "    return -1\n",
    "\n",
    "\n",
    "# Ejemplo de uso\n",
    "sorted_array = [1, 2, 3, 4, 5, 6, 7, 8, 9, 10]\n",
    "target_value = 9\n",
    "\n",
    "# Llamada a la función de búsqueda binaria\n",
    "result = bin_search(sorted_array, target_value)\n",
    "\n",
    "# Imprimir el resultado\n",
    "if result != -1:\n",
    "    print(f\"El valor {target_value} se encuentra en la posición {result}.\")\n",
    "else:\n",
    "    print(f\"El valor {target_value} no se encuentra en el arreglo.\")\n",
    "\n",
    "\n",
    "\n",
    "\n"
   ]
  },
  {
   "cell_type": "markdown",
   "id": "1087c522",
   "metadata": {},
   "source": [
    " Actividad: Comparación entre programación dinámica y la metodología divide y venceras.\n",
    "\n",
    "\n",
    "## Instrucciones\n",
    "\n",
    "\n",
    "1. Enumera las diferencias entre los dos efoques.\n",
    "\n",
    "\n",
    "2. Nombre algunos casos donde funcionan mejor la programación dinámica.\n",
    "\n",
    "\n",
    "3. Nombre ejemplos donde es suficiente usar el enfoque divide y venceras.\n",
    "\n",
    "\n",
    "**Espación para desarrollar la actividad:**\n",
    "\n",
    "\r\n",
    "1. Diferencias entre los dos enfoques:\r\n",
    "\r\n",
    "   - **Programación dinámica**:\r\n",
    "     - Se utiliza para problemas de optimización.\r\n",
    "     - Los subproblemas se solucionan una sola vez y se almacenan en una tabla para su reutilización.\r\n",
    "     - A menudo se usa cuando hay solapamiento entre los subproblemas.\r\n",
    "     - Ejemplos comunes incluyen problemas de optimización de rutas, como el Problema del Viajante de Comercio, y problemas de optimización de secuencias, como la Edición de Texto.\r\n",
    "\r\n",
    "   - **Divide y vencerás**:\r\n",
    "     - Se utiliza para problemas de búsqueda o de combinación.\r\n",
    "     - Divide el problema en subproblemas más pequeños, resuelve los subproblemas y luego combina las soluciones para obtener la solución del problema original.\r\n",
    "     - A menudo se usa cuando el problema se puede dividir en subproblemas independientes y no hay solapamiento entre ellos.\r\n",
    "     - Ejemplos comunes incluyen algoritmos de ordenamiento como Merge Sort y Quick Sort, y algoritmos de búsqueda como Binary Search.\r\n",
    "\r\n",
    "2. Casos donde funciona mejor la programación dinámica:\r\n",
    "\r\n",
    "   - Problemas de optimización donde se requiere encontrar la mejor solución entre muchas posibles.\r\n",
    "   - Problemas que pueden dividirse en subproblemas solapados y donde la solución óptima de un subproblema depende de las soluciones de otros subproblemas.\r\n",
    "   - Ejemplos: Problema de la mochila, Problema del viajante de comercio, Problema de la cadena más larga común.\r\n",
    "\r\n",
    "3. Ejemplos donde es suficiente usar el enfoque divide y vencerás:\r\n",
    "\r\n",
    "   - Problemas de búsqueda o combinación que pueden dividirse en subproblemas independientes y luego combinar las soluciones de manera eficiente.\r\n",
    "   - Problemas donde no hay solapamiento entre los subproblemas.\r\n",
    "   - Ejemplos: Merge Sort, Quick Sort, Binary Search, cálculo de la potencia de un número mediantxponenciación rápida.\n",
    "\n",
    "\n",
    "\n",
    "\n",
    "\n"
   ]
  },
  {
   "cell_type": "code",
   "execution_count": null,
   "id": "7aacf433",
   "metadata": {},
   "outputs": [],
   "source": []
  }
 ],
 "metadata": {
  "kernelspec": {
   "display_name": "Python 3 (ipykernel)",
   "language": "python",
   "name": "python3"
  },
  "language_info": {
   "codemirror_mode": {
    "name": "ipython",
    "version": 3
   },
   "file_extension": ".py",
   "mimetype": "text/x-python",
   "name": "python",
   "nbconvert_exporter": "python",
   "pygments_lexer": "ipython3",
   "version": "3.9.18"
  }
 },
 "nbformat": 4,
 "nbformat_minor": 5
}
