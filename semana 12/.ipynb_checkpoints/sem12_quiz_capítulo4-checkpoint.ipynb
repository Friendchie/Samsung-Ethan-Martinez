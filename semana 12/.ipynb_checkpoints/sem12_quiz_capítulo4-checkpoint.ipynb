{
 "cells": [
  {
   "cell_type": "markdown",
   "id": "f34adb44",
   "metadata": {
    "id": "f34adb44"
   },
   "source": [
    "# Inteligencia Artificial\n",
    "\n",
    "## Capítulo 4\n",
    "\n",
    "### Probabilidad y estadística\n",
    "\n",
    "- **Unidad 1.** Comprensión de la probabilidad\n",
    "- **Unidad 2.** Comprensión de la Estadística I\n",
    "- **Unidad 3.** Comprensión de la Estadística II\n",
    "- **Unidad 4.** Prueba de hipótesis estadística\n",
    "\n",
    "# Quiz"
   ]
  },
  {
   "cell_type": "markdown",
   "id": "2e42031a",
   "metadata": {
    "id": "2e42031a"
   },
   "source": [
    "___"
   ]
  },
  {
   "cell_type": "markdown",
   "id": "ac1e9b02",
   "metadata": {
    "id": "ac1e9b02"
   },
   "source": [
    "## Q 04-01\n",
    "\n",
    "### ¿Qué no es correcto como interpretación del modelo de ajuste en el siguiente análisis estadístico?\n",
    "\n",
    "\n",
    "\n",
    "1. En el análisis estadístico, la prueba unilateral indica que la hipótesis nula para el parámetro es H_0 ∶ θ = θ_0 y la hipótesis alternativa se puede definir como H_1 ∶ θ < θ_0 o H_1 ∶ θ > θ_0.\n",
    "2. El error tipo I es el nivel de significancia y es un error que ocurre cuando se rechaza la hipótesis nula verdadera aunque la hipótesis nula sea verdadera.\n",
    "3. Si la probabilidad de significancia p es mayor que el nivel de significancia α (p > α), se rechaza la hipótesis nula y se adopta la hipótesis alternativa\n",
    "4. Para probar la significancia de la ecuación de regresión, se debe realizar una prueba de significancia en la pendiente de la ecuación de regresión, por lo que la hipótesis es H_0 ∶ β_1= 0, H_1 ∶ β_1≠ 0 (donde β_1 es la pendiente de la ecuación de regresión ecuación)."
   ]
  },
  {
   "cell_type": "markdown",
   "id": "903e6874",
   "metadata": {
    "id": "903e6874"
   },
   "source": [
    "**Respuesta**"
   ]
  },
  {
   "cell_type": "code",
   "execution_count": null,
   "id": "7RKxgNMJ41JD",
   "metadata": {
    "id": "7RKxgNMJ41JD"
   },
   "outputs": [],
   "source": [
    "3"
   ]
  },
  {
   "cell_type": "markdown",
   "id": "26e1df49",
   "metadata": {
    "id": "26e1df49"
   },
   "source": [
    "___"
   ]
  },
  {
   "cell_type": "markdown",
   "id": "87a3a925",
   "metadata": {
    "id": "87a3a925"
   },
   "source": [
    "## Q 05-02\n",
    "\n",
    "### Suponiendo que me caso y tengo tres hijos, suponiendo que la variable aleatoria X es el número de hijos, ¿cuál es la probabilidad, la media y la varianza de tener dos hijos en este caso? (En este caso, se supone que la probabilidad de tener un hijo y una hija es la misma)."
   ]
  },
  {
   "cell_type": "markdown",
   "id": "Do__KKrw49C1",
   "metadata": {
    "id": "Do__KKrw49C1"
   },
   "source": [
    "**Respuesta**"
   ]
  },
  {
   "cell_type": "markdown",
   "id": "043d23a3-cab6-40c0-9912-c402d5c96382",
   "metadata": {
    "id": "v60yu05t4-Zs"
   },
   "source": [
    "Probabilidad de tener exactamente 2 hijos (P(X=2)):\n",
    "\n",
    "P(X=k) = (n!/k!(n-k)!) * p^k * (1-p)^(n-k)\n",
    "Sustituyendo los valores dados:\n",
    "P(X=2) = (3!/2!(3-2)!) * (0.5)^2 * (0.5)^(3-2)\n",
    "P(X=2) = (3!/2!1!) * 0.25 * 0.5\n",
    "P(X=2) = 3 * 0.25 * 0.5\n",
    "P(X=2) = 0.375\n",
    "la probabilidad de tener 2 hijos es 0.375 o 37.5%.\n",
    "\n",
    "Media (valor esperado) de la variable aleatoria X:\n",
    "La media de una distribución binomial se calcula como:\n",
    "E(X) = n * p\n",
    "E(X) = 3 * 0.5\n",
    "E(X) = 1.5\n",
    "\n",
    "la media del número de hijos es 1.5.\n",
    "\n",
    "Varianza de la variable aleatoria X:\n",
    "La varianza de una distribución binomial se calcula como:\n",
    "Var(X) = n * p * (1-p)\n",
    "Var(X) = 3 * 0.5 * 0.5\n",
    "Var(X) = 0.75\n",
    "\n",
    "la varianza del número de hijos es 0.75."
   ]
  },
  {
   "cell_type": "markdown",
   "id": "203a055b",
   "metadata": {
    "id": "203a055b"
   },
   "source": [
    "___"
   ]
  },
  {
   "cell_type": "markdown",
   "id": "8c115f28",
   "metadata": {
    "id": "8c115f28"
   },
   "source": [
    "## Q 05-03\n",
    "\n",
    "### ¿Cuando una variable aleatoria X sigue a X ~ N(μ, σ^2 )을, ¿cuál de las siguientes es correcta como expresión estandarizada?\n",
    "\n",
    "1. 1/x\n",
    "2. (x – μ ) / σ\n",
    "3. (x – σ ) /μ\n",
    "4. (x – μ )"
   ]
  },
  {
   "cell_type": "markdown",
   "id": "OVSTuK9J5HsD",
   "metadata": {
    "id": "OVSTuK9J5HsD"
   },
   "source": [
    "**Respuesta**"
   ]
  },
  {
   "cell_type": "code",
   "execution_count": null,
   "id": "oNsB5JJk5I8u",
   "metadata": {
    "id": "oNsB5JJk5I8u"
   },
   "outputs": [],
   "source": [
    "2. (x - μ) / σ"
   ]
  },
  {
   "cell_type": "markdown",
   "id": "7410bc11",
   "metadata": {
    "id": "7410bc11"
   },
   "source": [
    "___"
   ]
  },
  {
   "cell_type": "markdown",
   "id": "410f8980",
   "metadata": {
    "id": "410f8980"
   },
   "source": [
    "## Q 05-04\n",
    "\n",
    "### Si se seleccionara una muestra de 100 personas para saber si la satisfacción con dos sujetos difería según el género, ¿qué estadística sería la más adecuada en este caso?\n",
    "\n",
    "1.\tt\n",
    "2.\tχ^2\n",
    "3.\tZ\n",
    "4.\tF"
   ]
  },
  {
   "cell_type": "markdown",
   "id": "pj3v_OHR5OUK",
   "metadata": {
    "id": "pj3v_OHR5OUK"
   },
   "source": [
    "**Respuesta**"
   ]
  },
  {
   "cell_type": "code",
   "execution_count": null,
   "id": "pMjoM_HD5Ppp",
   "metadata": {
    "id": "pMjoM_HD5Ppp"
   },
   "outputs": [],
   "source": []
  },
  {
   "cell_type": "markdown",
   "id": "ba019f33",
   "metadata": {
    "id": "ba019f33"
   },
   "source": [
    "___"
   ]
  },
  {
   "cell_type": "markdown",
   "id": "d4b76da3",
   "metadata": {
    "id": "d4b76da3"
   },
   "source": [
    "## Q 05-05\n",
    "\n",
    "### Entre los estudiantes que tomaron la clase de Información y Estadística, se seleccionaron aleatoriamente 30 estudiantes. Al investigar el promedio de sus calificaciones, la media fue 80 y la varianza fue 9. Encuentre un intervalo de confianza del 95% para el promedio de sus calificaciones."
   ]
  },
  {
   "cell_type": "markdown",
   "id": "DAm-grOV5RYN",
   "metadata": {
    "id": "DAm-grOV5RYN"
   },
   "source": [
    "**Respuesta**"
   ]
  },
  {
   "cell_type": "code",
   "execution_count": null,
   "id": "5zw1PHLZ5TB0",
   "metadata": {
    "id": "5zw1PHLZ5TB0"
   },
   "outputs": [],
   "source": []
  },
  {
   "cell_type": "markdown",
   "id": "aa90491d",
   "metadata": {
    "id": "aa90491d"
   },
   "source": [
    "___"
   ]
  },
  {
   "cell_type": "markdown",
   "id": "ed04e881",
   "metadata": {
    "id": "ed04e881"
   },
   "source": [
    "## Fin"
   ]
  }
 ],
 "metadata": {
  "colab": {
   "provenance": []
  },
  "kernelspec": {
   "display_name": "Python 3 (ipykernel)",
   "language": "python",
   "name": "python3"
  },
  "language_info": {
   "codemirror_mode": {
    "name": "ipython",
    "version": 3
   },
   "file_extension": ".py",
   "mimetype": "text/x-python",
   "name": "python",
   "nbconvert_exporter": "python",
   "pygments_lexer": "ipython3",
   "version": "3.9.19"
  }
 },
 "nbformat": 4,
 "nbformat_minor": 5
}
