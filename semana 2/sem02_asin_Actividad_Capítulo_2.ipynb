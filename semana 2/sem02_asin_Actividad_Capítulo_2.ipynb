{
 "cells": [
  {
   "cell_type": "markdown",
   "id": "5ad8356f",
   "metadata": {},
   "source": [
    "# Actividades Capítulo 2.\n",
    "\n",
    "\n",
    "# Concepto básico de programación e inicio en Python\n",
    "\n",
    "## Resumen de actividades\n",
    "\n",
    "- **Unidad 10.** Tipos de datos lista y tupla Tipos de datos lista y tupla\n",
    "- **Unidad 11.** Tipos de datos de diccionario Tipos de datos de diccionario\n",
    "- **Unidad 12.** Tipos de datos de secuencia\n",
    "- **Unidad 13.** Listas 2D\n",
    "- **Unidad 14.** Método del diccionario-1\n",
    "- **Unidad 15.** Método del diccionario-2\n",
    "- **Unidad 16.** Establecer tipos de datos\n"
   ]
  },
  {
   "cell_type": "markdown",
   "id": "8c5aa9c8",
   "metadata": {},
   "source": [
    "# Actividad: Creación de una Base de Datos en Python\n",
    "\n",
    "## Descripción\n",
    "\n",
    "A continuación debes crear una base de datos simple utilizando listas en Python. Una base de datos es una colección de datos organizados que se utilizan para almacenar y recuperar información. En este caso, simularemos una base de datos de estudiantes con información básica.\n",
    "\n",
    "## Instrucciones\n",
    "\n",
    "1. Crea un programa en Python que permita a los usuarios realizar las siguientes acciones:\n",
    "\n",
    "   a. Agregar un nuevo estudiante a la base de datos. Cada estudiante debe tener al menos un nombre, un número de identificación y una edad. Puedes utilizar una lista para almacenar estos datos.\n",
    "\n",
    "   b. Mostrar la lista de estudiantes en la base de datos.\n",
    "\n",
    "   c. Buscar un estudiante por su número de identificación y mostrar su información.\n",
    "\n",
    "   d. Actualizar la información de un estudiante existente en la base de datos.\n",
    "\n",
    "   e. Eliminar un estudiante de la base de datos.\n",
    "\n",
    "2. Utiliza listas de Python para almacenar la información de los estudiantes. Por ejemplo, puedes crear una lista de diccionarios, donde cada diccionario representa un estudiante con sus datos.\n",
    "\n",
    "3. Ofrece un menú interactivo que permita a los usuarios elegir las acciones que desean realizar en la base de datos.\n",
    "\n",
    "4. Implementa la lógica necesaria para cada acción, como agregar, buscar, actualizar o eliminar estudiantes.\n",
    "\n",
    "## Ejemplo de Base de Datos\n",
    "\n",
    "A continuación, se muestra un ejemplo de cómo podría verse una base de datos de estudiantes utilizando listas y diccionarios:\n",
    "\n",
    "```python\n",
    "base_de_datos = [\n",
    "    {\"nombre\": \"Juan\", \"id\": 1, \"edad\": 20},\n",
    "    {\"nombre\": \"María\", \"id\": 2, \"edad\": 22},\n",
    "    {\"nombre\": \"Carlos\", \"id\": 3, \"edad\": 21}\n",
    "]\n",
    "\n",
    "Desarrolle el código en la siguiente lista."
   ]
  },
  {
   "cell_type": "code",
   "execution_count": 34,
   "id": "90cd2e33",
   "metadata": {},
   "outputs": [
    {
     "name": "stdin",
     "output_type": "stream",
     "text": [
      "que desea hacer?\n",
      "1. Agregar estudiante a la base de datos \n",
      "2. Mostrar estudiantes de la base de datos \n",
      "3.buscar por id  \n",
      "4. modificar info \n",
      "5. eliminar estudiante 1\n",
      "ingrese el nombre del estudiante ehras\n",
      "ingrese el id del estudiante 4\n",
      "ingrese la edad del estudiante 16\n"
     ]
    },
    {
     "name": "stdout",
     "output_type": "stream",
     "text": [
      "[{'nombre': 'Juan', 'id': 1, 'edad': 20}, {'nombre': 'María', 'id': 2, 'edad': 22}, {'nombre': 'Carlos', 'id': 3, 'edad': 21}, {'nombre': 'ehras', 'id': '4', 'edad': '16'}]\n"
     ]
    },
    {
     "name": "stdin",
     "output_type": "stream",
     "text": [
      "Desea ingresar otra opcion? (si/no) si\n",
      "que desea hacer?\n",
      "1. Agregar estudiante a la base de datos \n",
      "2. Mostrar estudiantes de la base de datos \n",
      "3.buscar por id  \n",
      "4. modificar info \n",
      "5. eliminar estudiante 2\n"
     ]
    },
    {
     "name": "stdout",
     "output_type": "stream",
     "text": [
      "estudiantes actuales en la base de datos:\n",
      " [{'nombre': 'Juan', 'id': 1, 'edad': 20}, {'nombre': 'María', 'id': 2, 'edad': 22}, {'nombre': 'Carlos', 'id': 3, 'edad': 21}, {'nombre': 'ehras', 'id': '4', 'edad': '16'}]\n"
     ]
    },
    {
     "name": "stdin",
     "output_type": "stream",
     "text": [
      "Desea ingresar otra opcion? (si/no) si\n",
      "que desea hacer?\n",
      "1. Agregar estudiante a la base de datos \n",
      "2. Mostrar estudiantes de la base de datos \n",
      "3.buscar por id  \n",
      "4. modificar info \n",
      "5. eliminar estudiante 3\n",
      "cual es el id que desea buscar? 4\n",
      "Desea ingresar otra opcion? (si/no) si\n",
      "que desea hacer?\n",
      "1. Agregar estudiante a la base de datos \n",
      "2. Mostrar estudiantes de la base de datos \n",
      "3.buscar por id  \n",
      "4. modificar info \n",
      "5. eliminar estudiante 3\n",
      "cual es el id que desea buscar? 2\n"
     ]
    },
    {
     "name": "stdout",
     "output_type": "stream",
     "text": [
      "el estudiante es: dict_items([('nombre', 'María'), ('id', 2), ('edad', 22)])\n"
     ]
    },
    {
     "name": "stdin",
     "output_type": "stream",
     "text": [
      "Desea ingresar otra opcion? (si/no) 4\n"
     ]
    },
    {
     "ename": "NameError",
     "evalue": "name 'no' is not defined",
     "output_type": "error",
     "traceback": [
      "\u001b[1;31m---------------------------------------------------------------------------\u001b[0m",
      "\u001b[1;31mNameError\u001b[0m                                 Traceback (most recent call last)",
      "Cell \u001b[1;32mIn[34], line 59\u001b[0m\n\u001b[0;32m     57\u001b[0m \u001b[38;5;28;01mif\u001b[39;00m val\u001b[38;5;241m==\u001b[39m\u001b[38;5;124m'\u001b[39m\u001b[38;5;124msi\u001b[39m\u001b[38;5;124m'\u001b[39m \u001b[38;5;129;01mor\u001b[39;00m val\u001b[38;5;241m==\u001b[39m\u001b[38;5;124m'\u001b[39m\u001b[38;5;124mSi\u001b[39m\u001b[38;5;124m'\u001b[39m:\n\u001b[0;32m     58\u001b[0m     val\u001b[38;5;241m=\u001b[39m\u001b[38;5;28;01mTrue\u001b[39;00m \n\u001b[1;32m---> 59\u001b[0m \u001b[38;5;28;01melif\u001b[39;00m val\u001b[38;5;241m==\u001b[39m\u001b[43mno\u001b[49m \u001b[38;5;129;01mor\u001b[39;00m val\u001b[38;5;241m==\u001b[39mno:\n\u001b[0;32m     60\u001b[0m     val\u001b[38;5;241m=\u001b[39m\u001b[38;5;28;01mFalse\u001b[39;00m\n\u001b[0;32m     61\u001b[0m \u001b[38;5;28;01melse\u001b[39;00m:\n",
      "\u001b[1;31mNameError\u001b[0m: name 'no' is not defined"
     ]
    }
   ],
   "source": [
    "#Recuerde agregar comentarios donde se describa el funcionamiento de las diferentes secciones.\n",
    "val=True\n",
    "db = [\n",
    "    {\"nombre\": \"Juan\", \"id\": 1, \"edad\": 20},\n",
    "    {\"nombre\": \"María\", \"id\": 2, \"edad\": 22},\n",
    "    {\"nombre\": \"Carlos\", \"id\": 3, \"edad\": 21}\n",
    "]\n",
    "while val==True:\n",
    "    op=int(input(\"que desea hacer?\\n1. Agregar estudiante a la base de datos \\n2. Mostrar estudiantes de la base de datos \\n3.buscar por id  \\n4. modificar info \\n5. eliminar estudiante\"))\n",
    "    if op==1:\n",
    "    #this option is to add an new student to db\n",
    "        n_db={}\n",
    "        name=input(\"ingrese el nombre del estudiante\")\n",
    "        n_db['nombre']=name\n",
    "        id=input(\"ingrese el id del estudiante\")\n",
    "        n_db['id']=id\n",
    "        age=input(\"ingrese la edad del estudiante\")\n",
    "        n_db['edad']=age\n",
    "        db.append(n_db)\n",
    "        print(db)\n",
    "    elif op==2:\n",
    "        print(\"estudiantes actuales en la base de datos:\\n\", db)\n",
    "    elif op==3:\n",
    "        id=int(input(\"cual es el id que desea buscar?\"))\n",
    "        for x in range(len(db)):\n",
    "            if db[x]['id']==id:\n",
    "                print(\"el estudiante es:\", db[x].items())\n",
    "                break\n",
    "    elif op==4:\n",
    "        name=input(\"Que estudiante desea modificar?\")\n",
    "        for y in range(len(db)):\n",
    "            if db[y]['nombre']==name:\n",
    "                print(\"el estudiante es:\", db[x].items())\n",
    "                break\n",
    "        print(\"Que desea modificar\")\n",
    "        op_3=int(input(\"1. nombre \\n2. id \\n3. edad \"))\n",
    "        if op_3==1:\n",
    "            n_name=input(\"ingrese el nuevo nombre\")\n",
    "            bd[y].uptade({'nombre':n_name})\n",
    "        elif op_3==2:\n",
    "            n_id=input(\"ingrese el nuevo id\")\n",
    "            bd[y].uptade({'id': n_id})\n",
    "        elif op_3==3:\n",
    "            n_age=input(\"ingrese la nueva edad\")\n",
    "            bd[y].uptade({'edad': n_age})        \n",
    "    elif op==5:\n",
    "        user=input(\"cual es el estudiante que desea buscar?\")\n",
    "        for x in range(len(db)):\n",
    "            if db[x]['nombre']==user:\n",
    "                print(\"el estudiante es:\", db[x].items(), \"\\nse procedera a eliminar los datos del mismo\")\n",
    "                del db[x]\n",
    "                break\n",
    "        print(db)\n",
    "    else: \n",
    "        print(\"algo paso\")\n",
    "    val=input(\"Desea ingresar otra opcion? (si/no)\")\n",
    "    if val=='si' or val=='Si':\n",
    "        val=True \n",
    "    elif val==no or val==no:\n",
    "        val=False\n",
    "    else:\n",
    "        \"ingrese un dato correcto\"\n",
    "print(\"Saliendo del sistema\")"
   ]
  },
  {
   "cell_type": "markdown",
   "id": "a11871f3",
   "metadata": {},
   "source": [
    "# Actividad: Rebanado de listas.\n",
    "\n",
    "Revisa la unidad 10,sección 5.3 aparece un resumen de los comandos para tomar secciones de una lista, aplica los comandos en la siguiente lista:\n",
    "\n",
    "\n",
    "list_notas = [15, 21, 24, 40, 13, 14, 18, 17, 14.5]\n",
    "\n"
   ]
  },
  {
   "cell_type": "code",
   "execution_count": 7,
   "id": "1e7a5371",
   "metadata": {},
   "outputs": [
    {
     "data": {
      "text/plain": [
       "[15, 24, 13, 18, 14.5]"
      ]
     },
     "execution_count": 7,
     "metadata": {},
     "output_type": "execute_result"
    }
   ],
   "source": [
    "# Espacio para desarrollar las pruebas, si tienes alguna duda o comentario adicional\n",
    "# lo puedes dejar planteado acá.\n",
    "\n",
    "list_notas = [15, 21, 24, 40, 13, 14, 18, 17, 14.5]\n",
    "list_notas[::2]\n",
    "list_notas[:]\n",
    "list_notas[:-3]\n",
    "list_notas[2:]\n",
    "list_notas[3:8]\n",
    "\n",
    "\n",
    "\n",
    "\n",
    "\n",
    "\n"
   ]
  },
  {
   "cell_type": "markdown",
   "id": "a207d974",
   "metadata": {},
   "source": [
    "\n",
    "# Actividad: Diferentes métodos usados en listas.\n",
    "\n",
    "De la unidad 10, sección 6.3 revise los métodos disponibles para usar sobre las listas.\n",
    "\n",
    "Aplique los métodos disponibles sobre la lista mostrada en la siguiente celda. \n",
    "\n",
    "Nota: usando el método **sort()** ordene de mayor a menor y viceversa (Si es necesario revise documentación adicional relacionada sobre este método)\n"
   ]
  },
  {
   "cell_type": "code",
   "execution_count": 22,
   "id": "b4ac1d5a",
   "metadata": {},
   "outputs": [
    {
     "data": {
      "text/plain": [
       "[40, 24, 21, 18, 17, 15, 14.5, 14, 13, 13]"
      ]
     },
     "execution_count": 22,
     "metadata": {},
     "output_type": "execute_result"
    }
   ],
   "source": [
    "# Aplique los métodos disponibles y agregue comentarios breves sobre su funcinamiento.\n",
    "\n",
    "list_notas = [15, 21, 24, 40, 13, 14, 18, 13, 17, 14.5]\n",
    "list_notas.sort()\n",
    "list_notas\n",
    "list_notas.sort(reverse=true)\n",
    "# Espacio para desarrollo del código y comentarios.\n",
    "\n",
    "\n",
    "\n",
    "\n",
    "\n",
    "\n",
    "\n",
    "\n",
    "\n",
    "\n",
    "\n",
    "\n",
    "\n",
    "\n"
   ]
  },
  {
   "cell_type": "markdown",
   "id": "26a6bb9e",
   "metadata": {},
   "source": [
    "# Actividad: Crear diccionarios y guardarlos como archivo JSON.\n",
    "\n",
    "De la unidad 11 sección 4.6 revise el ejemplo mostrado.\n",
    "\n",
    "Genera un diccionario, sobre la información que deseas guardar como base de datos, desarrollo el código necesario para generar el archivo JSON, y también el código para cargar la información del archivo JSON.\n"
   ]
  },
  {
   "cell_type": "code",
   "execution_count": null,
   "id": "6670eace",
   "metadata": {},
   "outputs": [],
   "source": [
    "# Espacio para desarrollar el código.\n",
    "\n",
    "\n",
    "\n",
    "\n",
    "\n",
    "\n",
    "\n",
    "\n",
    "\n",
    "\n",
    "\n",
    "\n",
    "\n",
    "\n"
   ]
  },
  {
   "cell_type": "markdown",
   "id": "fbfb4985",
   "metadata": {},
   "source": [
    "# Actividad: Creación y manejo de tuplas.\n",
    "\n",
    "## Instrucciones\n",
    "\n",
    "1. Escriba una diferencia entre las tuplas y las listas.\n",
    "2. Crear una tupla con varios elementos.\n",
    "3. Usar el operador in para verificar si la tuple contiene determinado elemento.\n"
   ]
  },
  {
   "cell_type": "code",
   "execution_count": 6,
   "id": "fc5b1a43",
   "metadata": {},
   "outputs": [
    {
     "data": {
      "text/plain": [
       "False"
      ]
     },
     "execution_count": 6,
     "metadata": {},
     "output_type": "execute_result"
    }
   ],
   "source": [
    "# Espacio para desarrollar el código siguiendo las instrucciones.\n",
    "#tuplas son no mutables y las listas si lo son\n",
    "tup = (1, 2, 3, 4, 5)\n",
    "\n",
    "6 in tup\n",
    "\n",
    "\n",
    "\n",
    "\n",
    "\n",
    "\n"
   ]
  },
  {
   "cell_type": "markdown",
   "id": "98938d2d",
   "metadata": {},
   "source": [
    "# Actividad: Revisión y manejo de listas bidimensionales.\n",
    "\n",
    "## Instrucciones\n",
    "\n",
    "1. Describa brevemente que entiende por lista bidimensional.\n",
    "2. Crear una lista bidimensional.\n",
    "3. Generar un doble loop para acceder de la lista bidimensional\n",
    "4. Sumar todo los elementos de esta lista bidimensional."
   ]
  },
  {
   "cell_type": "code",
   "execution_count": 11,
   "id": "a35ef1b7",
   "metadata": {},
   "outputs": [
    {
     "name": "stdout",
     "output_type": "stream",
     "text": [
      "1 2 3 4 5 6 \n",
      " 21\n"
     ]
    }
   ],
   "source": [
    "# Espacio para desarrollar el código, escriba comentarias breves para explicar su funcionamiento.\n",
    "#lista bidimensional significa tener una matriz, es decir tecnicamente una tabla que tiene datos en filas y columnas\n",
    "\n",
    "list_=[[1,2,3],\n",
    "      [4,5,6]]\n",
    "sum=0\n",
    "for fila in list_:\n",
    "    for elementos in fila:\n",
    "        sum+=elementos\n",
    "        print(elementos, end=\" \")\n",
    "print(\"\\n\", sum)\n",
    "\n"
   ]
  },
  {
   "cell_type": "markdown",
   "id": "4261fa65",
   "metadata": {},
   "source": [
    "# Actividad: Revision de los métodos usados en el manejo de diccionarios.\n",
    "\n",
    "## Instrucciones\n",
    "\n",
    "1. Crear un diccionario.\n",
    "2. Testear los siguientes métodos para el majeo de diccionarios get(), keys(), values(), items(), pop(), clear()\n",
    "3. Agregar un breve comentario sobre su funcionamiento."
   ]
  },
  {
   "cell_type": "code",
   "execution_count": 22,
   "id": "2f5887bb",
   "metadata": {},
   "outputs": [
    {
     "name": "stdout",
     "output_type": "stream",
     "text": [
      "luis\n",
      "dict_keys(['nombre', 'nota'])\n",
      "dict_values(['luis', 80])\n",
      "dict_items([('nombre', 'luis'), ('nota', 80)])\n",
      "{'nota': 80}\n",
      "{}\n"
     ]
    }
   ],
   "source": [
    "# Espacio para desarrollar el código.\n",
    "\n",
    "dic={'nombre': \"luis\", 'nota':80}\n",
    "print(dic.get('nombre', 'no in'))\n",
    "print(dic.keys())\n",
    "print(dic.values())\n",
    "print(dic.items())\n",
    "n=dic.pop('nombre')\n",
    "print(dic)\n",
    "dic.clear()\n",
    "print(dic)"
   ]
  },
  {
   "cell_type": "code",
   "execution_count": null,
   "id": "26345993-236d-4228-9ad2-10cc3e12c741",
   "metadata": {},
   "outputs": [],
   "source": []
  }
 ],
 "metadata": {
  "kernelspec": {
   "display_name": "Python 3 (ipykernel)",
   "language": "python",
   "name": "python3"
  },
  "language_info": {
   "codemirror_mode": {
    "name": "ipython",
    "version": 3
   },
   "file_extension": ".py",
   "mimetype": "text/x-python",
   "name": "python",
   "nbconvert_exporter": "python",
   "pygments_lexer": "ipython3",
   "version": "3.9.18"
  }
 },
 "nbformat": 4,
 "nbformat_minor": 5
}
