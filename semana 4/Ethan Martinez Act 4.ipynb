{
 "cells": [
  {
   "cell_type": "markdown",
   "id": "5d671b98",
   "metadata": {},
   "source": [
    "# Actividades Capítulo 4 - Estructuras de Datos\n",
    "\n",
    "Resumen de la actividad.\n",
    "\n",
    "\n",
    "- **1. Pilas y Colas**\n",
    "  - Actividad 1.2 - Implementar una Cola\n",
    "\n",
    "\n",
    "- **2. Búsqueda Secuencial**\n",
    "  - Actividad 2.1 - Búsqueda en una Lista\n",
    "\n",
    "\n",
    "- **3. Búsqueda Binaria**\n",
    "  - Actividad 3.1 - Búsqueda Binaria\n",
    "\n",
    "\n",
    "- **4. Tablas Hash**\n",
    "  - Actividad 4.1 - Implementar una Tabla Hash"
   ]
  },
  {
   "cell_type": "markdown",
   "id": "33866775",
   "metadata": {},
   "source": [
    "# Actividad: Implementación de una Pila en Python\n",
    "\n",
    "En esta actividad, tendrás la oportunidad de aplicar tus conocimientos sobre estructuras de datos y programación en Python para implementar una pila (stack). Una pila es una estructura de datos que sigue el principio \"Last-In-First-Out\" (LIFO), lo que significa que el último elemento que se agrega es el primero en ser eliminado.\n",
    "\n",
    "## Resumen:\n",
    "\n",
    "- **stack** = [ ]  # Recordando que una pila es básicamente una lista.\n",
    "- **append**: Método utilizado para agregar un elemento a la lista.\n",
    "- **pop**: Método usado para eliminar elementos de la lista, sino se especifica el índice se elimina el último elemento y retorna la lista resultante."
   ]
  },
  {
   "cell_type": "code",
   "execution_count": 44,
   "id": "fbb2dca1",
   "metadata": {},
   "outputs": [
    {
     "name": "stdout",
     "output_type": "stream",
     "text": [
      "['A', 'C', 'D', 'E', 'F', 'G', 'H', 'I', 'J', 'L', 'M', 'N', 'Ó', 'O', 'P', 'R', 'S', 'T', 'V', 'X', 'Y', 'Z'] \n",
      "\n",
      "{'A': ['Ana'], 'C': ['Carlos'], 'D': ['David'], 'E': ['Elena'], 'F': ['Fernando'], 'G': ['Gabriela'], 'H': ['Hugo'], 'I': ['Isabel'], 'J': ['Juan'], 'L': ['Luis', 'Lucía', 'Lorena'], 'M': ['Manuel', 'María', 'Miguel'], 'N': ['Natalia', 'Nicolás', 'Nora'], 'Ó': ['Óscar'], 'O': ['Olivia'], 'P': ['Pablo', 'Paula', 'Pedro'], 'R': ['Raquel', 'Rafael', 'Renata', 'Roberto', 'Rosario'], 'S': ['Sara', 'Sergio', 'Silvia'], 'T': ['Tomás', 'Teresa'], 'V': ['Víctor', 'Verónica'], 'X': ['Ximena', 'Xavier'], 'Y': ['Yolanda', 'Yenny'], 'Z': ['Zaira', 'Zoe', 'Zacarías']} \n",
      "\n",
      "[]\n"
     ]
    }
   ],
   "source": [
    "nombres_aleatorios = [\"Ana\", \"Carlos\", \"David\", \"Elena\", \"Fernando\", \"Gabriela\",\n",
    "                      \"Hugo\", \"Isabel\", \"Juan\", \"Luis\", \"Lucía\",\n",
    "                      \"Lorena\", \"Manuel\", \"María\", \"Miguel\", \"Natalia\",\n",
    "                      \"Nicolás\", \"Nora\", \"Óscar\", \"Olivia\", \"Pablo\", \"Paula\",\n",
    "                      \"Pedro\", \"Raquel\", \"Rafael\", \"Renata\", \"Roberto\", \"Rosario\",\n",
    "                      \"Sara\", \"Sergio\", \"Silvia\", \"Tomás\", \"Teresa\", \"Víctor\", \"Verónica\",\n",
    "                      \"Ximena\", \"Xavier\", \"Yolanda\", \"Yenny\", \"Zaira\", \"Zoe\", \"Zacarías\"]\n",
    "\n",
    "def deletreo(name): #funcion que se encarga de almacenar las letras que existen en la lista\n",
    "    for letter in name: #recorre la palabra caracter por caracter\n",
    "        frst_letter=letter #ubica el caracter en la variable\n",
    "        return frst_letter #retorna en la primera iteracion\n",
    "stack=[] \n",
    "dict={}\n",
    "for nombre in nombres_aleatorios: #itera nombre a nombre en la lista\n",
    "    letter= deletreo(nombre) #almacena el caracter retornado de la funcion\n",
    "    if letter not in stack: #busca si el caracter ya fue almacenado en el stack\n",
    "        stack.append(letter) #si no esta almacenado, lo agrega\n",
    "        dict[letter]= [] #crea un diccionario de listas para las listas de nombres\n",
    "        dict[letter].append(nombre) #agrega el nombre de la iteracion a la lista\n",
    "    else:\n",
    "        dict[letter].append(nombre) #si ya exite la letra en el diccionario, agrega directamente la variable al diccionario\n",
    "\n",
    "for item in range(len(nombres_aleatorios)-1, -1, -1):\n",
    "    nombres_aleatorios.pop(item) #borra los nombres de la lista original\n",
    "\n",
    "      \n",
    "print(stack, \"\\n\")\n",
    "print(dict, \"\\n\")\n",
    "print(nombres_aleatorios)\n",
    "# Generar un código para revisar los nombres contenidos en la lista, y guardarlos en diferentes listas,\n",
    "# de acuerdo a la inicial del nombre, use los comandos usandos antenirmente y barra los elementos usando \n",
    "# el comando \"for nombre in nombres_aleatorios:\" al final del proceso la lista inicial debe quedar vacia."
   ]
  },
  {
   "cell_type": "markdown",
   "id": "490f04a8",
   "metadata": {},
   "source": [
    "# Actividad: Replique el código, mostrado en la presentación 36 correspondiente al capítulo 4.\n",
    "\n",
    "En este codódigo se muestra la creación de una clasa para crear una pila y hacer las actividades básicas correspondientes.\n",
    "\n",
    "- **__init__**: Creación de la pila.\n",
    "- **is_empty**: Verificación si la pila está vacia.\n",
    "- **push**: agregar elemento a la pila\n",
    "- **pop**:si la pila no está vacia eliminar el último de elemento.\n",
    "\n",
    "Use la notación mostrada en la presentacion 40, realice varias operaciones y comente brevemente los resultados (máximo 3 lineas), antes de pasar a la siguiente actividad asegurese de entender completamente la notación utilizada."
   ]
  },
  {
   "cell_type": "code",
   "execution_count": 30,
   "id": "950d71ca",
   "metadata": {},
   "outputs": [
    {
     "name": "stdout",
     "output_type": "stream",
     "text": [
      "[]\n",
      "True\n",
      "[4]\n"
     ]
    }
   ],
   "source": [
    "# Escriba su código en está celda y todos los comentarios necesarios en la misma celda.\n",
    "\n",
    "class Crear_Pila: #clase que maneja los metodos correspondientes a la pila\n",
    "    def __init__(self): #crea la pila\n",
    "        self.stack=[]\n",
    "    def __is_empty__(self): #verifica si la pila esta vacia con booleanos\n",
    "            return len(self.stack)==0\n",
    "    def __push__(self,valor): # se utiliza para insertar un valor a la pila\n",
    "        self.stack.append(valor)\n",
    "    def __pop__(self, valor): # se utiliza para eliminar un valor de la pila\n",
    "        self.stack.pop(valor)\n",
    "    def __str__(self): #se utiliza para retornar la pila\n",
    "        return self.stack\n",
    "        \n",
    "pila= Crear_Pila() #se crea el objeto de la pila\n",
    "list=pila.__str__() #lista que se direcciona a la pila\n",
    "print(list) #se imprime la lista\n",
    "\n",
    "print(pila.__is_empty__()) # se verifica si esta vacia la pila\n",
    "pila.__push__(3) #se inserta valor a la pila\n",
    "pila.__push__(4) #se inserta valor a la pila\n",
    "pila.__pop__(0) #se elimina valor de la pila\n",
    "\n",
    "print(list) #se imprime nuevamente la lista \n"
   ]
  },
  {
   "cell_type": "markdown",
   "id": "5f2fe9e8",
   "metadata": {},
   "source": [
    "# Actividad: Búsqueda secuencial.\n",
    "\n",
    "Se tiene una lista de 10 ciudades organizadas en función de la densidad de población, escriba una función para retornar la posición ocupada.\n"
   ]
  },
  {
   "cell_type": "code",
   "execution_count": 32,
   "id": "dec8954f",
   "metadata": {},
   "outputs": [
    {
     "name": "stdout",
     "output_type": "stream",
     "text": [
      "4\n"
     ]
    }
   ],
   "source": [
    "ciudades = [\n",
    "    \"Daca, Bangladés\",\n",
    "    \"Karachi, Pakistán\",\n",
    "    \"Nueva Delhi, India\",\n",
    "    \"Manila, Filipinas\",\n",
    "    \"Seúl, Corea del Sur\",\n",
    "    \"Cantón, China\",\n",
    "    \"Taipéi, Taiwán\",\n",
    "    \"Chenaral, Chile\",\n",
    "    \"Shenzhen, China\",\n",
    "    \"Bombay, India\"\n",
    "]\n",
    "\n",
    "def obtener_posicion(ciudades, ciudad):\n",
    "    # Espaciós para desarrollar el código\n",
    "    for item in ciudades: #itera valor por valor en la lista\n",
    "        if item==ciudad: #evalua el parentesco\n",
    "            return ciudades.index(item) #retorna la posicion del valor item en la lista ciudades\n",
    "\n",
    "posicion_ocupada = obtener_posicion(ciudades,\"Seúl, Corea del Sur\")\n",
    "print(posicion_ocupada)"
   ]
  },
  {
   "cell_type": "markdown",
   "id": "9fffd532",
   "metadata": {},
   "source": [
    "# Actividad: Búsqueda binaria.\n",
    "\n",
    "- Escriba al menos una ventaja de la busqueda binaria.\n",
    "- Replique el código mostrado en la presentación 192.\n",
    "- Explique brevemente el funcionamiento del código, maximo 3 lineas.\n",
    "- Ingrese un piso de ruptura del huevo y calcule cuantas veces se realiza la revisión para encontrar el piso seguro.(Se puede agrear algún contador dentro del código para verificar)\n"
   ]
  },
  {
   "cell_type": "code",
   "execution_count": 39,
   "id": "bdc866e2",
   "metadata": {},
   "outputs": [
    {
     "name": "stdin",
     "output_type": "stream",
     "text": [
      "Ingrese el número de pisos:  7\n",
      "Ingrese el número del piso donde se romperá el huevo:  5\n"
     ]
    },
    {
     "name": "stdout",
     "output_type": "stream",
     "text": [
      "El huevo estará a salvo hasta el piso número 4\n",
      "contador:  3\n"
     ]
    }
   ],
   "source": [
    "# Espacio para replicar el código.\n",
    "\n",
    "def do_experiment(floor, breaking) :\n",
    "    return floor>= breaking\n",
    "def find_highest_safe_floor2(height, breaking) :\n",
    "    cont=0\n",
    "    low, high = 1, height\n",
    "    while low < high:\n",
    "        mid = (low + high) // 2\n",
    "        if do_experiment(mid, breaking) :\n",
    "            high = mid\n",
    "        else:\n",
    "            low = mid + 1\n",
    "        cont+=1\n",
    "    return low - 1, cont\n",
    "\n",
    "height= int(input (\"Ingrese el número de pisos: \") )\n",
    "breaking = int(input(\"Ingrese el número del piso donde se romperá el huevo: \") )\n",
    "floor, cont =find_highest_safe_floor2(height, breaking)\n",
    "\n",
    "print(f\"El huevo estará a salvo hasta el piso número {floor}\")\n",
    "print(\"contador: \", cont)\n",
    "# Espacio para explicar funcionamiento.\n",
    "\n",
    "\n",
    "\n",
    "# Cálculo y verificación del número de veces que se realiza la verificación.\n",
    "\n",
    "\n"
   ]
  },
  {
   "cell_type": "markdown",
   "id": "eb266a1e",
   "metadata": {},
   "source": [
    "# Actividad: Definir una tabla Hash tipo diccionario.\n",
    "\n",
    "En la siguiente celda se muestrar como crear un diccionario, como agregar elementos, como eliminar elementos,\n",
    "como verificar si la key existe en el diccionario, basados en este código agregue otros elementos, comente los resultados, si tienes alguna duda también la puedes escribir. (Use máximo 3 líneas en la explicación)\n"
   ]
  },
  {
   "cell_type": "code",
   "execution_count": null,
   "id": "f48163a5",
   "metadata": {},
   "outputs": [],
   "source": [
    "# Crear un diccionario vacío\n",
    "mi_diccionario = {}\n",
    "\n",
    "# Agregar elementos al diccionario\n",
    "mi_diccionario[\"nombre\"] = \"Juan\"\n",
    "mi_diccionario[\"edad\"] = 30\n",
    "mi_diccionario[\"ciudad\"] = \"Nueva York\"\n",
    "mi_diccionario[\"bananas consumidas al dia \"] = 7\n",
    "\n",
    "# Acceder a los valores por clave\n",
    "print(\"Nombre:\", mi_diccionario[\"nombre\"])\n",
    "print(\"Edad:\", mi_diccionario[\"edad\"])\n",
    "print(\"Ciudad:\", mi_diccionario[\"ciudad\"])\n",
    "print(\"bananas consumidas al dia:\", mi_diccionario[\"bananas consumidas al dia\"])\n",
    "\n",
    "# Modificar un valor existente\n",
    "mi_diccionario[\"bananas consumidas al dia\"] = 51\n",
    "\n",
    "# Eliminar un elemento del diccionario\n",
    "del mi_diccionario[\"ciudad\"]\n",
    "\n",
    "# Verificar si una clave existe en el diccionario\n",
    "if \"ciudad\" in mi_diccionario:\n",
    "    print(\"La clave 'ciudad' está en el diccionario.\")\n",
    "else:\n",
    "    print(\"La clave 'ciudad' no está en el diccionario.\")\n",
    "\n",
    "\n",
    "#comentarios\n",
    "''' \n",
    "    Es interesante hacer la similitud entre el concepto hash y los diccionarios\n",
    "'''"
   ]
  }
 ],
 "metadata": {
  "kernelspec": {
   "display_name": "Python 3 (ipykernel)",
   "language": "python",
   "name": "python3"
  },
  "language_info": {
   "codemirror_mode": {
    "name": "ipython",
    "version": 3
   },
   "file_extension": ".py",
   "mimetype": "text/x-python",
   "name": "python",
   "nbconvert_exporter": "python",
   "pygments_lexer": "ipython3",
   "version": "3.9.18"
  }
 },
 "nbformat": 4,
 "nbformat_minor": 5
}
