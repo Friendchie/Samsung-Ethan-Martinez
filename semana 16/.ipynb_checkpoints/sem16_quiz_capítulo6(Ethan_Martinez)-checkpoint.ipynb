{
 "cells": [
  {
   "cell_type": "markdown",
   "id": "f34adb44",
   "metadata": {},
   "source": [
    "# Inteligencia Artificial\n",
    "\n",
    "## Capítulo 6\n",
    "\n",
    "### Machine Learning / Aprendizaje no Supervisado\n",
    "\n",
    "- **Unidad 1.** Algoritmo de Machine Learning/aprendizaje automático no supervisado\n",
    "- **Unidad 2.** Clustering jerárquico (agrupación de la información en base a las palabras)\n",
    "- **Unidad 3.** Clustering no jerárquico\n",
    "- **Unidad 4.** Modelo factorial lineal para la reducción de la dimensionalidad\n",
    "\n",
    "# Quiz"
   ]
  },
  {
   "cell_type": "markdown",
   "id": "2e42031a",
   "metadata": {},
   "source": [
    "___"
   ]
  },
  {
   "cell_type": "markdown",
   "id": "ac1e9b02",
   "metadata": {},
   "source": [
    "## Q 06-01\n",
    "\n",
    "### ¿Cuál de las siguientes afirmaciones sobre el aprendizaje es incorrecta?\n",
    "1) El aprendizaje supervisado utiliza tanto datos de entrada como datos de aprendizaje dado un resultado, pero el aprendizaje no supervisado se utiliza en forma de aprendizaje que utiliza solo datos de entrada sin datos de aprendizaje.\n",
    "2) Se puede decir que el aprendizaje no supervisado es un método de aprendizaje que informa el problema pero no da la respuesta.\n",
    "3) Como algoritmo de aprendizaje no supervisado, se pueden utilizar el análisis de agrupamiento jerárquico y el agrupamiento de K-medias para la agrupación.\n",
    "4) La agrupación de K-medias tiene la ventaja de que es fácil determinar el número inicial de agrupaciones y fácil de interpretar los resultados."
   ]
  },
  {
   "cell_type": "markdown",
   "id": "903e6874",
   "metadata": {},
   "source": []
  },
  {
   "cell_type": "markdown",
   "id": "26e1df49",
   "metadata": {},
   "source": [
    "___"
   ]
  },
  {
   "cell_type": "markdown",
   "id": "87a3a925",
   "metadata": {},
   "source": [
    "## Q 06-02\n",
    "\n",
    "### ¿Cuál de las siguientes afirmaciones sobre la agrupación es incorrecta?\n",
    "\n",
    "1) La técnica de agrupación más utilizada es K-Means.\n",
    "2) La agrupación jerárquica se decide después de la agrupación sin determinar el número de grupos.\n",
    "3) El algoritmo de agrupamiento jerárquico tiene K-Medoids.\n",
    "4) La agrupación es una técnica que asigna y analiza grupos en función de la similitud o diferencia entre cada entidad."
   ]
  },
  {
   "cell_type": "markdown",
   "id": "62678495",
   "metadata": {},
   "source": []
  },
  {
   "cell_type": "markdown",
   "id": "203a055b",
   "metadata": {},
   "source": [
    "___"
   ]
  },
  {
   "cell_type": "markdown",
   "id": "8c115f28",
   "metadata": {},
   "source": [
    "## Q 06-03\n",
    "\n",
    "### El algoritmo EM pertenece al algoritmo codicioso. Por favor explique el motivo."
   ]
  },
  {
   "cell_type": "markdown",
   "id": "4b66252e",
   "metadata": {},
   "source": []
  },
  {
   "cell_type": "markdown",
   "id": "7410bc11",
   "metadata": {},
   "source": [
    "___"
   ]
  },
  {
   "cell_type": "markdown",
   "id": "410f8980",
   "metadata": {},
   "source": [
    "## Q 06-04\n",
    "\n",
    "### Escribe tres o más ejemplos de algoritmo de clustering"
   ]
  },
  {
   "cell_type": "markdown",
   "id": "b239c413",
   "metadata": {},
   "source": []
  },
  {
   "cell_type": "markdown",
   "id": "ba019f33",
   "metadata": {},
   "source": [
    "___"
   ]
  },
  {
   "cell_type": "markdown",
   "id": "d4b76da3",
   "metadata": {},
   "source": [
    "## Q 06-05\n",
    "\n",
    "### Explique los dos métodos para elegir el número óptimo de cluters cuando se utilizan k-medias. Describa cómo encontrar el número óptimo de clusters utilizando los dos métodos."
   ]
  },
  {
   "cell_type": "markdown",
   "id": "20998ef3",
   "metadata": {},
   "source": []
  },
  {
   "cell_type": "markdown",
   "id": "aa90491d",
   "metadata": {},
   "source": [
    "___"
   ]
  },
  {
   "cell_type": "markdown",
   "id": "ed04e881",
   "metadata": {},
   "source": [
    "## Fin"
   ]
  }
 ],
 "metadata": {
  "kernelspec": {
   "display_name": "Python 3 (ipykernel)",
   "language": "python",
   "name": "python3"
  },
  "language_info": {
   "codemirror_mode": {
    "name": "ipython",
    "version": 3
   },
   "file_extension": ".py",
   "mimetype": "text/x-python",
   "name": "python",
   "nbconvert_exporter": "python",
   "pygments_lexer": "ipython3",
   "version": "3.10.12"
  }
 },
 "nbformat": 4,
 "nbformat_minor": 5
}
