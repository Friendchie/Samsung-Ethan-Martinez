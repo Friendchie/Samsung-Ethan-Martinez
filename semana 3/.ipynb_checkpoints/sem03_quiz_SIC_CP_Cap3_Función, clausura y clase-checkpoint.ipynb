{
 "cells": [
  {
   "cell_type": "markdown",
   "id": "5ad8356f",
   "metadata": {},
   "source": [
    "# Coding and Programming\n",
    "\n",
    "## Capítulo 3\n",
    "\n",
    "### Función, clausura y clase\n",
    "\n",
    "- **Unidad 17.** Función\n",
    "- **Unidad 18.** Llamada a la función de recurrencia.\n",
    "- **Unidad 19.** Lambda\n",
    "- **Unidad 20.** Clausura\n",
    "- **Unidad 21.** Clase\n",
    "\n",
    "# Quiz 3"
   ]
  },
  {
   "cell_type": "markdown",
   "id": "a94ec368",
   "metadata": {},
   "source": [
    "___"
   ]
  },
  {
   "cell_type": "markdown",
   "id": "a11871f3",
   "metadata": {},
   "source": [
    "## Q 17-01\n",
    "\n",
    "Reciba las coordenadas `(x1, y1), (x2, y2)` de dos puntos del usuario e imprima la distancia entre los dos puntos de la siguiente manera. Para hacer esto, implemente la función `distancia(x1, y1, x2, y2)`.\n",
    "\n",
    "\n",
    "**Pauta de código:** consulte la fórmula para encontrar la distancia entre dos puntos.\n"
   ]
  },
  {
   "cell_type": "code",
   "execution_count": 8,
   "id": "f0579bf6-b0d6-469f-b57c-ae041ac4533f",
   "metadata": {},
   "outputs": [
    {
     "name": "stdin",
     "output_type": "stream",
     "text": [
      "ingrese las cordenadas y separelas por ',' ej:(4.1, 3) 4.1, 3\n",
      "ingrese las cordenadas y separelas por ',' ej:(4.1, 3) 3.5, 4\n"
     ]
    },
    {
     "name": "stdout",
     "output_type": "stream",
     "text": [
      "la distancia entre sus puntos es 1.17\n"
     ]
    }
   ],
   "source": [
    "import math\n",
    "def distance(pt1, pt2):\n",
    "    x1, y1= map(float, punto1.split(','))\n",
    "    x2, y2= map(float, punto2.split(','))\n",
    "    \n",
    "    dx= x2- x1\n",
    "    dy= y2- y1\n",
    "    dist= math.sqrt(dx**2 + dy**2)\n",
    "    return dist\n",
    "    \n",
    "punto1= input(\"ingrese las cordenadas y separelas por ',' ej:(4.1, 3)\")\n",
    "punto2= input(\"ingrese las cordenadas y separelas por ',' ej:(4.1, 3)\")\n",
    "\n",
    "print('la distancia entre sus puntos es {:.2f}'.format(distance(punto1, punto2)))"
   ]
  },
  {
   "cell_type": "markdown",
   "id": "a207d974",
   "metadata": {},
   "source": [
    "## Q 18-01\n",
    "\n",
    "Un palíndromo es una oración, palabra o cadena que es lo mismo que leer cualquier carácter de forma consecutiva.\n",
    "\n",
    "Por ejemplo, hay palabras como level, kayak, salas, somos, radar, reconocer.\n",
    "\n",
    "Usemos una llamada recursiva para determinar el palíndromo.\n",
    "\n",
    "Defina una función llamada `is_palindrome` y escriba un programa que reciba una cadena del usuario e imprima si el palindrome es correcto o no.\n",
    "\n",
    "**Pauta de código:** Llame a la función `is_palindrome` dentro de la función `is_palindrome`"
   ]
  },
  {
   "cell_type": "code",
   "execution_count": 15,
   "id": "bae262d9-9497-4a44-b093-f10a589e4196",
   "metadata": {},
   "outputs": [
    {
     "name": "stdin",
     "output_type": "stream",
     "text": [
      "ingrese su palabra para verificar si es palindroma level\n"
     ]
    },
    {
     "name": "stdout",
     "output_type": "stream",
     "text": [
      "¡La palabra 'level' es un palíndromo!\n"
     ]
    }
   ],
   "source": [
    "def is_palindrome(palabra):\n",
    "    # Caso base: Si la palabra tiene 0 o 1 caracteres, es un palíndromo\n",
    "    if len(palabra) <= 1:\n",
    "        return True\n",
    "    # Caso recursivo: Compara el primer y último carácter y llama recursivamente con la palabra \n",
    "    #sin esos caracteres\n",
    "    return palabra[0] == palabra[-1] and is_palindrome(palabra[1:-1])\n",
    "        \n",
    "word=input(\"ingrese su palabra para verificar si es palindroma\")\n",
    "is_palindrome(word)\n",
    "if is_palindrome(word):\n",
    "    print(\"¡La palabra '{}' es un palíndromo!\".format(word))\n",
    "else:\n",
    "    print(\"La palabra '{}' no es un palíndromo.\".format(word))"
   ]
  },
  {
   "cell_type": "markdown",
   "id": "fbfb4985",
   "metadata": {},
   "source": [
    "## Q 19-01\n",
    "\n",
    "\n",
    "Después de poner una lista llamada `n_list` con valores de `[10, 20, 30]` en la función `map`.\n",
    "\n",
    "```\n",
    "n_list = [10,20,30]\n",
    "twice  = list(map(lambda x: x*2, n_list))\n",
    "triple = list(map(lambda x: x*3, n_list))\n",
    "```\n",
    "\n",
    "Indique el contenido de las variables `twice` y `triple`."
   ]
  },
  {
   "cell_type": "markdown",
   "id": "2cdc7344",
   "metadata": {},
   "source": [
    "twice=20, 40, 60\n",
    "triple=30, 60, 90"
   ]
  },
  {
   "cell_type": "markdown",
   "id": "98938d2d",
   "metadata": {},
   "source": [
    "## Q 20-01\n",
    "\n",
    "En el siguiente código, espere qué valor se incluye finalmente en `num_list`. Calcule el resultado esperado a mano.\n",
    "\n",
    "**Pauta de codificación:** Escriba 5 veces la declaración `for`. Espere este resultado y envíe el resultado.\n",
    "\n",
    "```\n",
    "def calc_digit(n):\n",
    "    def findal(digit):\n",
    "        return digit**n\n",
    "    return final\n",
    "\n",
    "num_list = []\n",
    "for num in range(1,6):\n",
    "    num_list.append( calc_digit(num) )\n",
    "    print( num_list[num-1](num) )\n",
    "```"
   ]
  },
  {
   "cell_type": "markdown",
   "id": "90bf7774-0688-4216-8e80-e63c243d45b3",
   "metadata": {},
   "source": [
    "for 1 in range(1,6):\n",
    "    num_list.append( calc_digit(1) )\n",
    "    '''\n",
    "    def calc_digit(1):\n",
    "        def findal(1)\n",
    "            return 1**1\n",
    "        return findal\n",
    "    '''\r\n",
    "    print( num_lis[1m-1]m  #output->1\n",
    "    \n",
    "for 2 in range(1,6):\n",
    "    num_list.append( calc_digit(2) )\n",
    "    '''\n",
    "    def calc_digit(2):\n",
    "        def findal(2)\n",
    "            return 2**2\n",
    "        return findal\n",
    "    '''\n",
    "    print( num_list[2-1]2)) #output->4\n",
    "    \n",
    "for 3 in range(1,6):\n",
    "    num_list.append( calc_digit(3) )\n",
    "    '''\n",
    "    def calc_digit(3):\n",
    "        def findal(3)\n",
    "            return 3**3\n",
    "        return findal\n",
    "    '''\n",
    "    print( num_list[3-1]3)) #output->27\n",
    "    \n",
    "for 4 in range(1,6):\n",
    "    num_list.append( calc_digit(4) )\n",
    "    '''\n",
    "    def calc_digit(4):\n",
    "        def findal(4)\n",
    "            return 4**4\n",
    "        return findal\n",
    "    '''\n",
    "    print( num_list[4-1]4)) #output-> 256\n",
    "\n",
    "for 5 in range(1,6):\n",
    "    num_list.append( calc_digit(5) )\n",
    "    '''\n",
    "    def calc_digit(5):\n",
    "        def findal(5)\n",
    "            return 5**5\n",
    "        return findal\n",
    "    '''\n",
    "    print( num_list[5-1]5)) #output->3125\n",
    "    )"
   ]
  },
  {
   "cell_type": "markdown",
   "id": "d3ece88b",
   "metadata": {},
   "source": [
    "## Q 21-01\n",
    "\n",
    "Implemente las funciones de multiplicación (*) y división (/) de dos vectores usando los métodos `mul` y `truediv` aprendidos en la **unidad 21**. Suponiendo que `v1` es `(30, 40)` y `v2` es `(10, 20)`, codifique (escriba la declaración de salida) para devolver el siguiente resultado como resultado de la multiplicación y división de dos vectores.\n",
    "\n",
    "\n",
    "**Pauta de codificación:** escriba código que amplíe la funcionalidad de la clase `Vector2D` que aprendió en este capítulo."
   ]
  },
  {
   "cell_type": "code",
   "execution_count": 17,
   "id": "8d610447-9742-40f3-9202-fffb36b1eef1",
   "metadata": {},
   "outputs": [
    {
     "name": "stdout",
     "output_type": "stream",
     "text": [
      "Multiplicación de v1 y v2: Vector2D(300, 800)\n",
      "División de v1 por v2: Vector2D(3.0, 2.0)\n"
     ]
    }
   ],
   "source": [
    "class Vector2D:\n",
    "    def __init__(self, x, y):\n",
    "        self.x = x\n",
    "        self.y = y\n",
    "\n",
    "    def __repr__(self):\n",
    "        return \"Vector2D({}, {})\".format(self.x, self.y)\n",
    "\n",
    "    def __mul__(self, other):\n",
    "        # Multiplicación de dos vectores\n",
    "        if isinstance(other, Vector2D):\n",
    "            return Vector2D(self.x * other.x, self.y * other.y)\n",
    "\n",
    "    def __truediv__(self, other):\n",
    "        # División de dos vectores\n",
    "        if isinstance(other, Vector2D):\n",
    "            return Vector2D(self.x / other.x, self.y / other.y)\n",
    "\n",
    "\n",
    "# Definir los vectores v1 y v2\n",
    "v1 = Vector2D(30, 40)\n",
    "v2 = Vector2D(10, 20)\n",
    "\n",
    "# Realizar la multiplicación de dos vectores\n",
    "resultado_multiplicacion = v1 * v2\n",
    "print(\"Multiplicación de v1 y v2:\", resultado_multiplicacion)\n",
    "\n",
    "# Realizar la división de dos vectores\n",
    "resultado_division = v1 / v2\n",
    "print(\"División de v1 por v2:\", resultado_division)\n"
   ]
  },
  {
   "cell_type": "markdown",
   "id": "2717ce09",
   "metadata": {},
   "source": [
    "___"
   ]
  },
  {
   "cell_type": "markdown",
   "id": "10514335",
   "metadata": {},
   "source": [
    "# Fin"
   ]
  }
 ],
 "metadata": {
  "kernelspec": {
   "display_name": "Python 3 (ipykernel)",
   "language": "python",
   "name": "python3"
  },
  "language_info": {
   "codemirror_mode": {
    "name": "ipython",
    "version": 3
   },
   "file_extension": ".py",
   "mimetype": "text/x-python",
   "name": "python",
   "nbconvert_exporter": "python",
   "pygments_lexer": "ipython3",
   "version": "3.9.18"
  }
 },
 "nbformat": 4,
 "nbformat_minor": 5
}
