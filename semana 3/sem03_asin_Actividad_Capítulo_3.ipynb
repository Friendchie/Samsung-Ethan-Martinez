{
 "cells": [
  {
   "cell_type": "markdown",
   "id": "5ad8356f",
   "metadata": {},
   "source": [
    "# Actividades Capítulo 3.\n",
    "\n",
    "\n",
    "# Concepto básico de programación e inicio en Python\n",
    "\n",
    "## Resumen de actividades\n",
    "\n",
    "\n",
    "- **Unidad 17.** Función\n",
    "- **Unidad 18.** Llamada a la función de recurrencia.\n",
    "- **Unidad 19.** Lambda\n",
    "- **Unidad 20.** Clausura\n",
    "- **Unidad 21.** Clase\n"
   ]
  },
  {
   "cell_type": "markdown",
   "id": "8c5aa9c8",
   "metadata": {},
   "source": [
    "# Actividad: Creacion de funciones.\n",
    "\n",
    "\n",
    "## Instrucciones\n",
    "\n",
    "1. Defina en forma breve el concepto de función.\n",
    "\n",
    "2. Crear una función para realizar la suma de los números impares en el rango de 0 a 100, dentro de la función imprima los valores sumados y al final retorne el resultado de la sumatoria.\n"
   ]
  },
  {
   "cell_type": "code",
   "execution_count": 4,
   "id": "90cd2e33",
   "metadata": {},
   "outputs": [
    {
     "name": "stdout",
     "output_type": "stream",
     "text": [
      "2500\n"
     ]
    }
   ],
   "source": [
    "# Espacio para desarrollar el código requerido, recuerde agregar algunos\n",
    "# comentarios breves sobre su funcionamiento.\n",
    "\n",
    "'''una funcion es un bloque de instrucciones apartado de la funcion main, por asi decirlo, el cual se invoca para desarrollar \n",
    "instrucciones especificas ya propuestas en su \"espacio\" cerrado.\n",
    "'''\n",
    "\n",
    "#this code space is for developing a function that makes the sum of the odd numbers from 0 to 100\n",
    "\n",
    "#function that makes the sum\n",
    "def sum():\n",
    "    #local variable that will store the value of the sum\n",
    "    suma=0\n",
    "    #for that will go from 0 to 100\n",
    "    for i in range(1,101,2):\n",
    "        suma+=i\n",
    "    return suma\n",
    "\n",
    "print(sum())\n",
    "\n",
    "\n"
   ]
  },
  {
   "cell_type": "markdown",
   "id": "a11871f3",
   "metadata": {},
   "source": [
    "# Actividad: Diseñe una función para codificar strings y otra para decodificar strings.\n",
    "\n",
    "1. Revise documentación relacionada a los procesos de encriptación, explique brevemente como funcionan.\n",
    "2. Ambas funciones deben tener como entrada un string y una ¨Clave\", la ¨Clave¨ será usada para codificar y decodificar.\n",
    "3. El desarrollo de está actividad esta abierto a multiples soluciones, por favor sea original en su respuesta.\n"
   ]
  },
  {
   "cell_type": "code",
   "execution_count": 33,
   "id": "1e7a5371",
   "metadata": {},
   "outputs": [
    {
     "name": "stdout",
     "output_type": "stream",
     "text": [
      "Mensaje encriptado: b'gAAAAABlvapEOvXnLtVC1FgFv6tbXFGHKiZFBlYxiwU5srMO_KvcwVFPkULNUm87bWkXNJ0yEy9dHWZPCTnXguINpBbwjIf9Nw=='\n",
      "Mensaje encriptado: Hello world\n"
     ]
    }
   ],
   "source": [
    "# Espacio para desarrollar la actividad, si tienes alguna duda o comentario adicional\n",
    "# lo puedes dejar planteado acá.\n",
    "from cryptography.fernet import Fernet\n",
    "\n",
    "def cod(key, data): #function that  encrypts data\n",
    "    cipher=Fernet(key) #generates an object to encrypt \n",
    "    c_ = cipher.encrypt(data.encode()) #encrypts the data and encode it to return it\n",
    "    return c_\n",
    "def decode(key, data): #function that  deencrypts data\n",
    "    decipher=Fernet(key) #creates an object to use the fernet methods\n",
    "    de_c = decipher.decrypt(data).decode()  #deencrypts the data and decode it to return it\n",
    "    return de_c\n",
    "key=Fernet.generate_key() #generates the kwy to encrypt\n",
    "word='Hello world'\n",
    "cod_word= cod(key, word) #invokes the function to encrypt\n",
    "print(\"Mensaje encriptado:\", cod_word)\n",
    "\n",
    "decod_word= decode(key,cod_word)\n",
    "print(\"Mensaje encriptado:\", decod_word) #invokes the function to deencrypt\n"
   ]
  },
  {
   "cell_type": "markdown",
   "id": "a207d974",
   "metadata": {},
   "source": [
    "\n",
    "# Actividad: Diseñe y codifique una función.\n",
    "\n",
    "1. Diseñe una función que revise el contenido de una carpeta, la mision de esta funcion es revisar todas las carpetas existentes y obtener los nommbres de los archivos contenidos.\n",
    "2. Considere que dentro de cada carpete pueden existir otras carpetas.\n",
    "3. Todas las carpetas deben ser revisadas.\n",
    "4. Con la ejecucion de la siguiente celda se crearan las carpetas y los archivos.\n",
    "5. Es posible que debas considerar el uso de una función recursiva."
   ]
  },
  {
   "cell_type": "code",
   "execution_count": null,
   "id": "8604e2dc-90c3-4d42-915e-c973a1990b53",
   "metadata": {},
   "outputs": [],
   "source": [
    "import os\n",
    "import random\n",
    "\n",
    "def guardar_archivo(text_content, file_path):\n",
    "    with open(file_path, 'w') as file:\n",
    "        # Write the text content to the file\n",
    "        file.write(text_content)\n",
    "\n",
    "\n",
    "if os.path.exists(\"Carpeta_principal\"):\n",
    "    os.system(f'rm -r \"Carpeta_principal\"')\n",
    "\n",
    "os.mkdir(\"Carpeta_principal\")\n",
    "# Inicialización\n",
    "\n",
    "def crear_carpetas(ruta_actual):\n",
    "    global numeracion_del_archivo, numero_de_sub_carpetas\n",
    "    numero_de_archivos_o_carpetas = random.randint(0,15) # genración de numero aleatorio entre 0 y 15.\n",
    "    print(ruta_actual)\n",
    "    if numero_de_sub_carpetas < max_carpetas:\n",
    "        for n in range(0, numero_de_archivos_o_carpetas):\n",
    "\n",
    "            numero_aleatorio_2 = random.randint(0,2) # número aleatoria entre 0 y 1.\n",
    "            if numero_aleatorio_2 == 0:\n",
    "                os.mkdir(ruta_actual +'/'+ 'folder_{}'.format(n) )\n",
    "                print(ruta_actual +'/'+ 'folder_{}'.format(n))\n",
    "            else:\n",
    "                contenido_del_archivo = \"Contenido_{}\".format(numeracion_del_archivo)                \n",
    "                ruta_del_archivo = ruta_actual + '/' + \"archivo_{}.text\".format(numeracion_del_archivo)\n",
    "#                 print(\"ruta_del_archivo: \", ruta_del_archivo)\n",
    "                guardar_archivo(contenido_del_archivo, ruta_del_archivo)\n",
    "                numeracion_del_archivo += 1\n",
    "                \n",
    "        lista_de_nuevas_carpetas = [f.path for f in os.scandir(ruta_actual) if f.is_dir()] # Busqueda de nueva carpeta\n",
    "\n",
    "        numero_de_sub_carpetas += 1\n",
    "        for carpeta in lista_de_nuevas_carpetas:\n",
    "            crear_carpetas(carpeta)\n",
    "        \n",
    "max_carpetas = 4\n",
    "numeracion_del_archivo = 0\n",
    "numero_de_sub_carpetas = 0\n",
    "ruta_actual = \"Carpeta_principal\"\n",
    "crear_carpetas(ruta_actual)"
   ]
  },
  {
   "cell_type": "code",
   "execution_count": 26,
   "id": "a4f925a4",
   "metadata": {},
   "outputs": [
    {
     "name": "stdout",
     "output_type": "stream",
     "text": [
      "Archivos en la carpeta: ['lista de archivos:', 'archivo_0.text', 'archivo_1.text', 'archivo_2.text', 'archivo_3.text', 'archivo_4.text', 'archivo_5.text', 'archivo_6.text', 'archivo_7.text', 'archivo_8.text', 'lista de carpetas:', 'folder_0', 'lista de archivos:', 'archivo_10.text', 'archivo_11.text', 'archivo_12.text', 'archivo_13.text', 'archivo_14.text', 'archivo_15.text', 'archivo_9.text', 'lista de carpetas:', 'folder_0', 'lista de archivos:', 'archivo_16.text', 'archivo_17.text', 'archivo_18.text', 'lista de carpetas:', 'folder_1', 'lista de archivos:', 'archivo_19.text', 'archivo_20.text', 'archivo_21.text', 'archivo_22.text', 'lista de carpetas:', 'folder_1', 'lista de archivos:', 'lista de carpetas:', 'folder_11', 'lista de archivos:', 'lista de carpetas:', 'folder_2', 'lista de archivos:', 'lista de carpetas:', 'folder_3', 'lista de archivos:', 'lista de carpetas:', 'folder_11', 'lista de archivos:', 'lista de carpetas:', 'folder_8', 'lista de archivos:', 'lista de carpetas:']\n"
     ]
    }
   ],
   "source": [
    "# Celda para desarrollar \n",
    "#this code section is for search folders and files in a determinated path\n",
    "import os # module that imports the necessary methods\n",
    "\n",
    "#\n",
    "def obtener_archivos_en_carpeta(this_ruta):\n",
    "    nombres_archivos = [] #array for file names\n",
    "    nombres_carpetas =[] #array for folder names\n",
    "    ruta=this_ruta\n",
    "    nombres_archivos.append('lista de archivos:')\n",
    "    nombres_carpetas.append('lista de carpetas:')\n",
    "    counter=0\n",
    "    for nombre_archivo in os.listdir(ruta): # iterate in the list of the folder\n",
    "        ruta_completa = os.path.join(ruta, nombre_archivo)# build the entire path\n",
    "        \n",
    "        if os.path.isfile(ruta_completa): # Validate if 'nombre_archivo' is a file \n",
    "            nombres_archivos.append(nombre_archivo) # this will join the name of the file to the array\n",
    "        elif os.path.isdir(ruta_completa): # Validate if 'nombre_archivo' is a folder  \n",
    "            nombres_carpetas.append(nombre_archivo) # this will join the name of the folder to the array\n",
    "            subcarpeta_archivos = obtener_archivos_en_carpeta(ruta_completa) #invoke recursivity\n",
    "            nombres_carpetas.extend(subcarpeta_archivos)# adds subfolders \n",
    "    combo_list= nombres_archivos + nombres_carpetas\n",
    "    return combo_list\n",
    "                \n",
    "# instructions to use\n",
    "this_ruta=\"Carpeta_principal\"\n",
    "archivos_en_carpeta = obtener_archivos_en_carpeta(ruta_actual) #invoke the function\n",
    "print(\"Archivos en la carpeta:\", archivos_en_carpeta) #print the variable that contains the list of files and folders\n",
    "\n"
   ]
  },
  {
   "cell_type": "markdown",
   "id": "26a6bb9e",
   "metadata": {},
   "source": [
    "# Actividad: Crear diccionarios y guardarlos como archivo JSON.\n",
    "\n",
    "De la unidad 11 sección 4.6 revise el ejemplo mostrado.\n",
    "\n",
    "Genera un diccionario, sobre la información que deseas guardar como base de datos, desarrollo el código necesario para generar el archivo JSON, y también el código para cargar la información del archivo JSON.\n"
   ]
  },
  {
   "cell_type": "code",
   "execution_count": 35,
   "id": "6670eace",
   "metadata": {},
   "outputs": [
    {
     "name": "stdout",
     "output_type": "stream",
     "text": [
      "Datos cargados del archivo JSON: {'nombre': 'Juan', 'edad': 30, 'ciudad': 'Madrid'}\n"
     ]
    }
   ],
   "source": [
    "# Espacio para desarrollar el código siguiendo las instrucciones.\n",
    "import json\n",
    "diccionario = {\n",
    "    \"nombre\": \"Juan\",\n",
    "    \"edad\": 30,\n",
    "    \"ciudad\": \"Madrid\"\n",
    "}\n",
    "\n",
    "with open(\"diccionario.json\", \"w\") as archivo_json:\n",
    "    json.dump(diccionario, archivo_json)\n",
    "with open(\"diccionario.json\", \"r\") as archivo_json:\n",
    "    data = json.load(archivo_json)\n",
    "\n",
    "print(\"Datos cargados del archivo JSON:\", data)"
   ]
  },
  {
   "cell_type": "markdown",
   "id": "fbfb4985",
   "metadata": {},
   "source": [
    "# Actividad: Uso de la funcion Lambda.\n",
    "\n",
    "## Instrucciones\n",
    "\n",
    "1. Escriba una función regular donde se realice una operación.\n",
    "2. Escriba la misma función donde use la expresión lambda.\n",
    "3. Explica brevemente las ventajas de usar la función Lambda.\n"
   ]
  },
  {
   "cell_type": "code",
   "execution_count": 39,
   "id": "fc5b1a43",
   "metadata": {},
   "outputs": [
    {
     "name": "stdout",
     "output_type": "stream",
     "text": [
      "con def 8\n",
      "con lambda 8\n"
     ]
    }
   ],
   "source": [
    "# Espacio para desarrollar el código siguiendo las instrucciones.\n",
    "def suma(a,b): #function that sums 2 variables\n",
    "    return a+b\n",
    "\n",
    "print(\"con def\", suma(5,3))\n",
    "\n",
    "print(\"con lambda\", (lambda a,b:a+b)(5,3)) #sums 2 variables directly with lambda\n",
    "\n",
    "#ventajas:\n",
    "''' sintaxys concisas\n",
    "    util para funnciones temporales o en lugares especificos\n",
    "    reduccion de codigo\n",
    "'''"
   ]
  },
  {
   "cell_type": "markdown",
   "id": "98938d2d",
   "metadata": {},
   "source": [
    "# Actividad: Usar la función map para duplicar el valor de cada uno de los elementos contenidos.\n",
    "\n",
    "## Instrucciones\n",
    "\n",
    "1. Describa brevemente el funcionamiento y las ventajas de usar la función map\n",
    "2. Escriba el código en el siguiente espacio."
   ]
  },
  {
   "cell_type": "code",
   "execution_count": 45,
   "id": "a35ef1b7",
   "metadata": {},
   "outputs": [
    {
     "name": "stdout",
     "output_type": "stream",
     "text": [
      "[1, 2, 3, 4, 5, 6]\n",
      "[2, 4, 6, 8, 10, 12]\n"
     ]
    }
   ],
   "source": [
    "# Espacio para desarrollar el código.\n",
    "\n",
    "'''\n",
    "la funcion map ejecuta la funcion lambda en cada iterable sin necesidad de \n",
    "usar un bucle for\n",
    "\n",
    "ventajas:\n",
    "    en mi opinion optimiza el codigo logrando ejecutar funciones en iterables \n",
    "    sin necesidad de un bucle y eso lleva a otra ventaja que seria:\n",
    "    mejora la legibilidad\n",
    "'''\n",
    "a=[1,2,3,4,5,6]\n",
    "dup = list( map(lambda x:x*2, a))\n",
    "print(a)\n",
    "print(dup)\n",
    "\n",
    "\n",
    "\n",
    "\n",
    "\n"
   ]
  },
  {
   "cell_type": "code",
   "execution_count": null,
   "id": "9edbede7-6d7f-4398-9053-5e40011a5fe6",
   "metadata": {},
   "outputs": [],
   "source": []
  }
 ],
 "metadata": {
  "kernelspec": {
   "display_name": "Python 3 (ipykernel)",
   "language": "python",
   "name": "python3"
  },
  "language_info": {
   "codemirror_mode": {
    "name": "ipython",
    "version": 3
   },
   "file_extension": ".py",
   "mimetype": "text/x-python",
   "name": "python",
   "nbconvert_exporter": "python",
   "pygments_lexer": "ipython3",
   "version": "3.9.18"
  }
 },
 "nbformat": 4,
 "nbformat_minor": 5
}
